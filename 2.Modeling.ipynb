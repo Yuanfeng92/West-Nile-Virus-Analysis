{
 "cells": [
  {
   "cell_type": "markdown",
   "metadata": {
    "cell_id": "00000-91a6dd60-e5b4-47f2-b32f-a00fa8b0c80e",
    "deepnote_cell_type": "markdown"
   },
   "source": [
    "# West Nile Virus Prediction\n",
    "\n",
    "## Modeling with Selected Features from EDA\n",
    "\n",
    "In this notebook, we will use the combined and cleaned dataset to build different models to find the best model to predict the appearance of mosquitos carrying the West Nile Virus (wnv = 1).\n",
    "\n",
    "**Contents**\n",
    "- [Import Libraries](#Import-Libraries)\n",
    "- [Data Preparation](#Data-Preparation)\n",
    "- [Common Functions](#Common-Functions)\n",
    "- [Modeling with No Tuning](#Modeling-with-No-Tuning)\n",
    "    - [Models using SMOTETomek](#Models-using-SMOTETomek)\n",
    "    - [Models using Class Weight](#Models-using-Class-Weight)\n",
    "- [Models with Tuning](#Models-with-Tuning)\n",
    "    - [Logistic Regression](#Logistic-Regression)\n",
    "    - [Random Forest](#Random-Forest)\n",
    "    - [Extra Trees](#Extra-Trees)\n",
    "    - [XGBoost](#XGBoost)\n",
    "    - [Support Vector Machine (SVM)](#Support-Vector-Machine-(SVM))\n",
    "- [Final Model](#Final-Model)\n",
    "    - [Feature Importance](#Feature-Importance)\n",
    "- [Conclusion for Modeling](#Conclusion-for-Modeling)"
   ]
  },
  {
   "cell_type": "markdown",
   "metadata": {
    "cell_id": "00001-7d3c33a3-5a99-4b84-9cd4-f593ec5344b5",
    "deepnote_cell_type": "markdown"
   },
   "source": [
    "## Import Libraries"
   ]
  },
  {
   "cell_type": "code",
   "execution_count": null,
   "metadata": {
    "ExecuteTime": {
     "end_time": "2021-01-07T12:05:33.074752Z",
     "start_time": "2021-01-07T12:05:27.998878Z"
    },
    "cell_id": "00002-952d95e0-7b49-41ca-92ec-84ec069a29ae",
    "deepnote_cell_type": "code",
    "deepnote_to_be_reexecuted": false,
    "execution_millis": 5910,
    "execution_start": 1610075871478,
    "output_cleared": false,
    "source_hash": "129d79c8",
    "tags": []
   },
   "outputs": [],
   "source": [
    "import pandas as pd\n",
    "import numpy as np\n",
    "import matplotlib.pyplot as plt\n",
    "import seaborn as sns\n",
    "sns.set_style('whitegrid')\n",
    "\n",
    "from sklearn.preprocessing import StandardScaler\n",
    "\n",
    "from sklearn.model_selection import cross_val_score, train_test_split, GridSearchCV\n",
    "from sklearn.metrics import confusion_matrix, classification_report, accuracy_score, f1_score, precision_score, recall_score, roc_auc_score\n",
    "from sklearn.linear_model import LogisticRegression\n",
    "from sklearn.ensemble import RandomForestClassifier, ExtraTreesClassifier\n",
    "from sklearn.svm import SVC\n",
    "from sklearn.preprocessing import OneHotEncoder\n",
    "\n",
    "from imblearn.over_sampling import SMOTE\n",
    "from imblearn.pipeline import make_pipeline\n",
    "from imblearn.combine import SMOTETomek\n",
    "\n",
    "from xgboost import XGBClassifier\n",
    "\n",
    "from tensorflow.keras.wrappers.scikit_learn import KerasClassifier\n",
    "from tensorflow.keras import optimizers\n",
    "from tensorflow.keras.models import Sequential\n",
    "from tensorflow.keras.layers import Dense, Dropout\n",
    "from tensorflow.keras.callbacks import EarlyStopping\n",
    "import tensorflow as tf"
   ]
  },
  {
   "cell_type": "markdown",
   "metadata": {
    "cell_id": "00003-3f11640a-22a9-43a5-9d01-13dfbe5b6c5a",
    "deepnote_cell_type": "markdown",
    "tags": []
   },
   "source": [
    "## Data Preparation"
   ]
  },
  {
   "cell_type": "markdown",
   "metadata": {
    "cell_id": "00004-10ae22b4-4d44-4799-9f36-ddcaef6c2b9b",
    "deepnote_cell_type": "markdown"
   },
   "source": [
    "- Train and test data were combined with weather data."
   ]
  },
  {
   "cell_type": "code",
   "execution_count": null,
   "metadata": {
    "ExecuteTime": {
     "end_time": "2021-01-07T12:05:33.996029Z",
     "start_time": "2021-01-07T12:05:33.078749Z"
    },
    "cell_id": "00005-1fc0cec9-247d-4a5a-9513-913d2282eea2",
    "deepnote_cell_type": "code",
    "deepnote_to_be_reexecuted": false,
    "execution_millis": 425,
    "execution_start": 1610075877392,
    "output_cleared": false,
    "source_hash": "104f2adf",
    "tags": []
   },
   "outputs": [],
   "source": [
    "# read in train and test data\n",
    "train = pd.read_csv('assets/train_weather_cleaned.csv')\n",
    "test = pd.read_csv('assets/test_weather_cleaned.csv')"
   ]
  },
  {
   "cell_type": "code",
   "execution_count": null,
   "metadata": {
    "ExecuteTime": {
     "end_time": "2021-01-07T12:05:34.027012Z",
     "start_time": "2021-01-07T12:05:34.000027Z"
    },
    "cell_id": "00006-70bdf59a-c4d8-4cc4-8b6a-a4ee46d9a53b",
    "deepnote_cell_type": "code",
    "deepnote_to_be_reexecuted": false,
    "execution_millis": 3,
    "execution_start": 1610075877823,
    "source_hash": "3b9db1c6"
   },
   "outputs": [
    {
     "data": {
      "text/plain": [
       "(10506, 28)"
      ]
     },
     "execution_count": 5,
     "metadata": {},
     "output_type": "execute_result"
    }
   ],
   "source": [
    "# check train data shape\n",
    "train.shape"
   ]
  },
  {
   "cell_type": "code",
   "execution_count": null,
   "metadata": {
    "ExecuteTime": {
     "end_time": "2021-01-07T12:05:34.043002Z",
     "start_time": "2021-01-07T12:05:34.030010Z"
    },
    "cell_id": "00007-56ef87ed-5d11-4d78-93f1-c29224780f40",
    "deepnote_cell_type": "code",
    "deepnote_to_be_reexecuted": false,
    "execution_millis": 44,
    "execution_start": 1610075877829,
    "source_hash": "fd8fff45"
   },
   "outputs": [
    {
     "data": {
      "text/plain": [
       "(116293, 27)"
      ]
     },
     "execution_count": 6,
     "metadata": {},
     "output_type": "execute_result"
    }
   ],
   "source": [
    "# check test data shape\n",
    "test.shape"
   ]
  },
  {
   "cell_type": "code",
   "execution_count": null,
   "metadata": {
    "ExecuteTime": {
     "end_time": "2021-01-07T12:05:34.058991Z",
     "start_time": "2021-01-07T12:05:34.045000Z"
    },
    "cell_id": "00008-00076544-b8d8-4cd3-81b8-0604374e2bd3",
    "deepnote_cell_type": "code",
    "deepnote_to_be_reexecuted": false,
    "execution_millis": 9,
    "execution_start": 1610075877876,
    "source_hash": "6afd339"
   },
   "outputs": [
    {
     "data": {
      "text/plain": [
       "9.034077717489444"
      ]
     },
     "execution_count": 7,
     "metadata": {},
     "output_type": "execute_result"
    }
   ],
   "source": [
    "# percentage of train data vs test data\n",
    "(10506/116293)*100"
   ]
  },
  {
   "cell_type": "markdown",
   "metadata": {
    "cell_id": "00009-a2bfafef-61b7-43f8-b1fe-c3b85bbf7287",
    "deepnote_cell_type": "markdown"
   },
   "source": [
    "- There is much more test data than train data, train data is around 9% of test data."
   ]
  },
  {
   "cell_type": "code",
   "execution_count": null,
   "metadata": {
    "ExecuteTime": {
     "end_time": "2021-01-07T12:05:34.074981Z",
     "start_time": "2021-01-07T12:05:34.060990Z"
    },
    "cell_id": "00010-e61920be-72f6-45cd-a7e0-a021b2a8e732",
    "deepnote_cell_type": "code",
    "deepnote_to_be_reexecuted": false,
    "execution_millis": 1,
    "execution_start": 1610075877919,
    "source_hash": "18669755"
   },
   "outputs": [
    {
     "data": {
      "text/plain": [
       "0    0.947554\n",
       "1    0.052446\n",
       "Name: WnvPresent, dtype: float64"
      ]
     },
     "execution_count": 8,
     "metadata": {},
     "output_type": "execute_result"
    }
   ],
   "source": [
    "train['WnvPresent'].value_counts(normalize = True)"
   ]
  },
  {
   "cell_type": "markdown",
   "metadata": {
    "cell_id": "00011-615267e6-00be-456f-81d0-6c55bce04cc2",
    "deepnote_cell_type": "markdown"
   },
   "source": [
    "- As mentioned in EDA, there is class imbalance between wnv = 0 and wnv = 1 in the train data. wnv = 1 consist about 5% of the data."
   ]
  },
  {
   "cell_type": "code",
   "execution_count": null,
   "metadata": {
    "ExecuteTime": {
     "end_time": "2021-01-07T12:05:34.090971Z",
     "start_time": "2021-01-07T12:05:34.076980Z"
    },
    "cell_id": "00012-1ac637c9-0caf-4dff-be99-2b367498bee7",
    "deepnote_cell_type": "code",
    "deepnote_to_be_reexecuted": false,
    "execution_millis": 0,
    "execution_start": 1610075877920,
    "source_hash": "7172a257"
   },
   "outputs": [
    {
     "data": {
      "text/plain": [
       "Index(['date', 'species', 'latitude', 'longitude', 'nummosquitos',\n",
       "       'wnvpresent', 'tavg', 'depart', 'dewpoint', 'preciptotal', 'sealevel',\n",
       "       'resultdir', 'avgspeed', 'r_humidity', 'tavg_1week', 'tavg_2week',\n",
       "       'dewpoint_1week', 'dewpoint_2week', 'preciptotal_1week',\n",
       "       'preciptotal_2week', 'avgspeed_1week', 'avgspeed_2week',\n",
       "       'r_humidity_1week', 'r_humidity_2week', 'year', 'month', 'week', 'day'],\n",
       "      dtype='object')"
      ]
     },
     "execution_count": 9,
     "metadata": {},
     "output_type": "execute_result"
    }
   ],
   "source": [
    "# convert the column names to lower case in train and test\n",
    "train.columns = train.columns.str.lower()\n",
    "test.columns = test.columns.str.lower()\n",
    "\n",
    "train.columns"
   ]
  },
  {
   "cell_type": "code",
   "execution_count": null,
   "metadata": {
    "ExecuteTime": {
     "end_time": "2021-01-07T12:05:34.106961Z",
     "start_time": "2021-01-07T12:05:34.094969Z"
    },
    "cell_id": "00013-ac38c6b1-2d1c-49ac-b830-59d2396a4cb3",
    "deepnote_cell_type": "code",
    "deepnote_to_be_reexecuted": false,
    "execution_millis": 0,
    "execution_start": 1610075877921,
    "source_hash": "f46ec42e"
   },
   "outputs": [],
   "source": [
    "# dataset consisting only 1 week rolling average information\n",
    "train_1 = train.drop(columns=['date', 'nummosquitos',\n",
    "                              'tavg_2week', 'dewpoint_2week', 'preciptotal_2week',\n",
    "                              'avgspeed_2week', 'r_humidity_2week']).copy()\n",
    "\n",
    "# dataset consisting only 2 weeks rolling average information\n",
    "train_2 = train.drop(columns=['date', 'nummosquitos',\n",
    "                              'tavg_1week', 'dewpoint_1week', 'preciptotal_1week',\n",
    "                              'avgspeed_1week', 'r_humidity_1week']).copy()"
   ]
  },
  {
   "cell_type": "code",
   "execution_count": null,
   "metadata": {
    "ExecuteTime": {
     "end_time": "2021-01-07T12:05:34.137942Z",
     "start_time": "2021-01-07T12:05:34.109960Z"
    },
    "cell_id": "00014-d4054792-de7c-4e72-a941-d084d11f5d2f",
    "deepnote_cell_type": "code",
    "deepnote_to_be_reexecuted": false,
    "execution_millis": 0,
    "execution_start": 1610075877970,
    "output_cleared": false,
    "source_hash": "d970b47a",
    "tags": []
   },
   "outputs": [],
   "source": [
    "# one-hot encode all the species from the training dataset\n",
    "enc = OneHotEncoder(handle_unknown='ignore')\n",
    "species_trap = enc.fit_transform(train[['species']])\n",
    "\n",
    "temp = pd.DataFrame(species_trap.toarray(), columns = enc.get_feature_names(['species']))\n",
    "\n",
    "train1 = pd.concat([train_1.drop(columns = ['species']), temp], axis = 1)\n",
    "train2 = pd.concat([train_2.drop(columns = ['species']), temp], axis = 1)"
   ]
  },
  {
   "cell_type": "code",
   "execution_count": null,
   "metadata": {
    "ExecuteTime": {
     "end_time": "2021-01-07T12:05:34.231884Z",
     "start_time": "2021-01-07T12:05:34.139942Z"
    },
    "cell_id": "00015-c4ed8338-4dfa-47ef-98ee-99426f97139f",
    "deepnote_cell_type": "code",
    "deepnote_to_be_reexecuted": false,
    "execution_millis": 0,
    "execution_start": 1610075877971,
    "source_hash": "26d4d124"
   },
   "outputs": [
    {
     "name": "stdout",
     "output_type": "stream",
     "text": [
      "<class 'pandas.core.frame.DataFrame'>\n",
      "RangeIndex: 10506 entries, 0 to 10505\n",
      "Data columns (total 27 columns):\n",
      " #   Column                          Non-Null Count  Dtype  \n",
      "---  ------                          --------------  -----  \n",
      " 0   latitude                        10506 non-null  float64\n",
      " 1   longitude                       10506 non-null  float64\n",
      " 2   wnvpresent                      10506 non-null  int64  \n",
      " 3   tavg                            10506 non-null  int64  \n",
      " 4   depart                          10506 non-null  float64\n",
      " 5   dewpoint                        10506 non-null  int64  \n",
      " 6   preciptotal                     10506 non-null  float64\n",
      " 7   sealevel                        10506 non-null  float64\n",
      " 8   resultdir                       10506 non-null  int64  \n",
      " 9   avgspeed                        10506 non-null  float64\n",
      " 10  r_humidity                      10506 non-null  float64\n",
      " 11  tavg_1week                      10506 non-null  float64\n",
      " 12  dewpoint_1week                  10506 non-null  float64\n",
      " 13  preciptotal_1week               10506 non-null  float64\n",
      " 14  avgspeed_1week                  10506 non-null  float64\n",
      " 15  r_humidity_1week                10506 non-null  float64\n",
      " 16  year                            10506 non-null  int64  \n",
      " 17  month                           10506 non-null  int64  \n",
      " 18  week                            10506 non-null  int64  \n",
      " 19  day                             10506 non-null  int64  \n",
      " 20  species_CULEX ERRATICUS         10506 non-null  float64\n",
      " 21  species_CULEX PIPIENS           10506 non-null  float64\n",
      " 22  species_CULEX PIPIENS/RESTUANS  10506 non-null  float64\n",
      " 23  species_CULEX RESTUANS          10506 non-null  float64\n",
      " 24  species_CULEX SALINARIUS        10506 non-null  float64\n",
      " 25  species_CULEX TARSALIS          10506 non-null  float64\n",
      " 26  species_CULEX TERRITANS         10506 non-null  float64\n",
      "dtypes: float64(19), int64(8)\n",
      "memory usage: 2.2 MB\n"
     ]
    }
   ],
   "source": [
    "# display columns and their datatypes in train1\n",
    "train1.info()"
   ]
  },
  {
   "cell_type": "code",
   "execution_count": null,
   "metadata": {
    "ExecuteTime": {
     "end_time": "2021-01-07T12:05:34.263864Z",
     "start_time": "2021-01-07T12:05:34.233883Z"
    },
    "cell_id": "00016-a487e6f2-1a89-492b-8318-8c97a9280401",
    "deepnote_cell_type": "code",
    "deepnote_to_be_reexecuted": false,
    "execution_millis": 7,
    "execution_start": 1610075877972,
    "source_hash": "40487f9a"
   },
   "outputs": [
    {
     "name": "stdout",
     "output_type": "stream",
     "text": [
      "<class 'pandas.core.frame.DataFrame'>\n",
      "RangeIndex: 10506 entries, 0 to 10505\n",
      "Data columns (total 27 columns):\n",
      " #   Column                          Non-Null Count  Dtype  \n",
      "---  ------                          --------------  -----  \n",
      " 0   latitude                        10506 non-null  float64\n",
      " 1   longitude                       10506 non-null  float64\n",
      " 2   wnvpresent                      10506 non-null  int64  \n",
      " 3   tavg                            10506 non-null  int64  \n",
      " 4   depart                          10506 non-null  float64\n",
      " 5   dewpoint                        10506 non-null  int64  \n",
      " 6   preciptotal                     10506 non-null  float64\n",
      " 7   sealevel                        10506 non-null  float64\n",
      " 8   resultdir                       10506 non-null  int64  \n",
      " 9   avgspeed                        10506 non-null  float64\n",
      " 10  r_humidity                      10506 non-null  float64\n",
      " 11  tavg_2week                      10506 non-null  float64\n",
      " 12  dewpoint_2week                  10506 non-null  float64\n",
      " 13  preciptotal_2week               10506 non-null  float64\n",
      " 14  avgspeed_2week                  10506 non-null  float64\n",
      " 15  r_humidity_2week                10506 non-null  float64\n",
      " 16  year                            10506 non-null  int64  \n",
      " 17  month                           10506 non-null  int64  \n",
      " 18  week                            10506 non-null  int64  \n",
      " 19  day                             10506 non-null  int64  \n",
      " 20  species_CULEX ERRATICUS         10506 non-null  float64\n",
      " 21  species_CULEX PIPIENS           10506 non-null  float64\n",
      " 22  species_CULEX PIPIENS/RESTUANS  10506 non-null  float64\n",
      " 23  species_CULEX RESTUANS          10506 non-null  float64\n",
      " 24  species_CULEX SALINARIUS        10506 non-null  float64\n",
      " 25  species_CULEX TARSALIS          10506 non-null  float64\n",
      " 26  species_CULEX TERRITANS         10506 non-null  float64\n",
      "dtypes: float64(19), int64(8)\n",
      "memory usage: 2.2 MB\n"
     ]
    }
   ],
   "source": [
    "# display columns and their datatypes in train2\n",
    "train2.info()"
   ]
  },
  {
   "cell_type": "code",
   "execution_count": null,
   "metadata": {
    "ExecuteTime": {
     "end_time": "2021-01-07T12:05:34.294845Z",
     "start_time": "2021-01-07T12:05:34.265865Z"
    },
    "cell_id": "00017-3aa3da73-f7fb-4a7d-9b9e-4c854a56d3c5",
    "deepnote_cell_type": "code",
    "deepnote_to_be_reexecuted": false,
    "execution_millis": 1,
    "execution_start": 1610075878027,
    "output_cleared": false,
    "source_hash": "2851f112",
    "tags": []
   },
   "outputs": [
    {
     "data": {
      "text/plain": [
       "0    0.947554\n",
       "1    0.052446\n",
       "Name: wnvpresent, dtype: float64"
      ]
     },
     "execution_count": 14,
     "metadata": {},
     "output_type": "execute_result"
    }
   ],
   "source": [
    "# create the training dataset X (1 week and 2 weeks rolling average) and y\n",
    "\n",
    "# X1 is the data using 1 week rolling average\n",
    "X1 = train1.drop(columns = 'wnvpresent')\n",
    "\n",
    "# X2 is the data using 2 week rolling average\n",
    "X2 = train2.drop(columns = 'wnvpresent')\n",
    "y = train['wnvpresent']\n",
    "\n",
    "# check the percentage comparison of y values\n",
    "y.value_counts(normalize = True)"
   ]
  },
  {
   "cell_type": "code",
   "execution_count": null,
   "metadata": {
    "ExecuteTime": {
     "end_time": "2021-01-07T12:05:34.326825Z",
     "start_time": "2021-01-07T12:05:34.296845Z"
    },
    "cell_id": "00018-0f25f24f-ee73-4ce5-820c-85a9069e04fa",
    "deepnote_cell_type": "code",
    "deepnote_to_be_reexecuted": false,
    "execution_millis": 0,
    "execution_start": 1610075878028,
    "output_cleared": false,
    "source_hash": "b065d201",
    "tags": []
   },
   "outputs": [],
   "source": [
    "# Split data into train data and test data with train-test-split\n",
    "X1_train, X1_test, y1_train, y1_test = train_test_split(X1, y, test_size=0.2, random_state=42, stratify=y)\n",
    "X2_train, X2_test, y2_train, y2_test = train_test_split(X2, y, test_size=0.2, random_state=42, stratify=y)"
   ]
  },
  {
   "cell_type": "code",
   "execution_count": null,
   "metadata": {
    "ExecuteTime": {
     "end_time": "2021-01-07T12:05:34.374796Z",
     "start_time": "2021-01-07T12:05:34.327826Z"
    },
    "cell_id": "00019-31b8fd22-00c8-43ba-a57b-18bee61f5643",
    "deepnote_cell_type": "code",
    "deepnote_to_be_reexecuted": false,
    "execution_millis": 43,
    "execution_start": 1610075878028,
    "output_cleared": false,
    "source_hash": "70fe9bdc",
    "tags": []
   },
   "outputs": [],
   "source": [
    "# scaling both datasets using two different instances of StandardScaler\n",
    "\n",
    "# standardscaler for train1\n",
    "ss1 = StandardScaler()\n",
    "X1_train_sc = ss1.fit_transform(X1_train)\n",
    "X1_test_sc = ss1.transform(X1_test)\n",
    "\n",
    "# standardscaler for train2\n",
    "ss2 = StandardScaler()\n",
    "X2_train_sc = ss2.fit_transform(X2_train)\n",
    "X2_test_sc = ss2.transform(X2_test)"
   ]
  },
  {
   "cell_type": "code",
   "execution_count": null,
   "metadata": {
    "ExecuteTime": {
     "end_time": "2021-01-07T12:05:34.612650Z",
     "start_time": "2021-01-07T12:05:34.375796Z"
    },
    "cell_id": "00020-7a70890a-223e-4cc8-9cc7-05472fd659d9",
    "deepnote_cell_type": "code",
    "deepnote_to_be_reexecuted": false,
    "execution_millis": 156,
    "execution_start": 1610075878072,
    "source_hash": "a25f3ad7"
   },
   "outputs": [],
   "source": [
    "# preparing the submission(test) dataset, also split into 1 week and 2 weeks rolling average\n",
    "# this is the kaggle dataset\n",
    "\n",
    "# test data using 1 week rolling average\n",
    "submission1 = test[train_1.drop(columns='wnvpresent').columns].copy()\n",
    "\n",
    "# test data using 2 week rolling average\n",
    "submission2 = test[train_2.drop(columns='wnvpresent').columns].copy()\n",
    "\n",
    "# one-hot encode species\n",
    "submission_species = enc.transform(test[['species']])\n",
    "temp = pd.DataFrame(submission_species.toarray(), columns = enc.get_feature_names(['species']))\n",
    "submission1 = pd.concat([submission1.drop(columns = ['species']), temp], axis = 1)\n",
    "submission2 = pd.concat([submission2.drop(columns = ['species']), temp], axis = 1)\n",
    "\n",
    "# transform submission(test) using standard scaler\n",
    "\n",
    "# use standard scaler from train1 to transform test \n",
    "submission1_sc = ss1.transform(submission1)\n",
    "\n",
    "# use standard scaler from train2 to transform test \n",
    "submission2_sc = ss2.transform(submission2)"
   ]
  },
  {
   "cell_type": "code",
   "execution_count": null,
   "metadata": {
    "ExecuteTime": {
     "end_time": "2021-01-07T12:05:34.644266Z",
     "start_time": "2021-01-07T12:05:34.614649Z"
    },
    "cell_id": "00021-6d3e25cc-5fa4-496a-ab78-4180304cf0f1",
    "deepnote_cell_type": "code",
    "deepnote_to_be_reexecuted": false,
    "execution_millis": 1,
    "execution_start": 1610075878267,
    "output_cleared": false,
    "source_hash": "b3f6b3fc",
    "tags": []
   },
   "outputs": [
    {
     "name": "stdout",
     "output_type": "stream",
     "text": [
      "<class 'pandas.core.frame.DataFrame'>\n",
      "RangeIndex: 116293 entries, 0 to 116292\n",
      "Data columns (total 26 columns):\n",
      " #   Column                          Non-Null Count   Dtype  \n",
      "---  ------                          --------------   -----  \n",
      " 0   latitude                        116293 non-null  float64\n",
      " 1   longitude                       116293 non-null  float64\n",
      " 2   tavg                            116293 non-null  int64  \n",
      " 3   depart                          116293 non-null  float64\n",
      " 4   dewpoint                        116293 non-null  int64  \n",
      " 5   preciptotal                     116293 non-null  float64\n",
      " 6   sealevel                        116293 non-null  float64\n",
      " 7   resultdir                       116293 non-null  int64  \n",
      " 8   avgspeed                        116293 non-null  float64\n",
      " 9   r_humidity                      116293 non-null  float64\n",
      " 10  tavg_1week                      116293 non-null  float64\n",
      " 11  dewpoint_1week                  116293 non-null  float64\n",
      " 12  preciptotal_1week               116293 non-null  float64\n",
      " 13  avgspeed_1week                  116293 non-null  float64\n",
      " 14  r_humidity_1week                116293 non-null  float64\n",
      " 15  year                            116293 non-null  int64  \n",
      " 16  month                           116293 non-null  int64  \n",
      " 17  week                            116293 non-null  int64  \n",
      " 18  day                             116293 non-null  int64  \n",
      " 19  species_CULEX ERRATICUS         116293 non-null  float64\n",
      " 20  species_CULEX PIPIENS           116293 non-null  float64\n",
      " 21  species_CULEX PIPIENS/RESTUANS  116293 non-null  float64\n",
      " 22  species_CULEX RESTUANS          116293 non-null  float64\n",
      " 23  species_CULEX SALINARIUS        116293 non-null  float64\n",
      " 24  species_CULEX TARSALIS          116293 non-null  float64\n",
      " 25  species_CULEX TERRITANS         116293 non-null  float64\n",
      "dtypes: float64(19), int64(7)\n",
      "memory usage: 23.1 MB\n"
     ]
    }
   ],
   "source": [
    "# display columns and their datatypes in submission1\n",
    "submission1.info()"
   ]
  },
  {
   "cell_type": "code",
   "execution_count": null,
   "metadata": {
    "ExecuteTime": {
     "end_time": "2021-01-07T12:05:34.675700Z",
     "start_time": "2021-01-07T12:05:34.646264Z"
    },
    "cell_id": "00022-a1bc056d-21b0-43c8-ae57-f9b5333426e5",
    "deepnote_cell_type": "code",
    "deepnote_to_be_reexecuted": false,
    "execution_millis": 0,
    "execution_start": 1610075878268,
    "output_cleared": false,
    "source_hash": "ddb1d8e5",
    "tags": []
   },
   "outputs": [
    {
     "name": "stdout",
     "output_type": "stream",
     "text": [
      "<class 'pandas.core.frame.DataFrame'>\n",
      "RangeIndex: 116293 entries, 0 to 116292\n",
      "Data columns (total 26 columns):\n",
      " #   Column                          Non-Null Count   Dtype  \n",
      "---  ------                          --------------   -----  \n",
      " 0   latitude                        116293 non-null  float64\n",
      " 1   longitude                       116293 non-null  float64\n",
      " 2   tavg                            116293 non-null  int64  \n",
      " 3   depart                          116293 non-null  float64\n",
      " 4   dewpoint                        116293 non-null  int64  \n",
      " 5   preciptotal                     116293 non-null  float64\n",
      " 6   sealevel                        116293 non-null  float64\n",
      " 7   resultdir                       116293 non-null  int64  \n",
      " 8   avgspeed                        116293 non-null  float64\n",
      " 9   r_humidity                      116293 non-null  float64\n",
      " 10  tavg_2week                      116293 non-null  float64\n",
      " 11  dewpoint_2week                  116293 non-null  float64\n",
      " 12  preciptotal_2week               116293 non-null  float64\n",
      " 13  avgspeed_2week                  116293 non-null  float64\n",
      " 14  r_humidity_2week                116293 non-null  float64\n",
      " 15  year                            116293 non-null  int64  \n",
      " 16  month                           116293 non-null  int64  \n",
      " 17  week                            116293 non-null  int64  \n",
      " 18  day                             116293 non-null  int64  \n",
      " 19  species_CULEX ERRATICUS         116293 non-null  float64\n",
      " 20  species_CULEX PIPIENS           116293 non-null  float64\n",
      " 21  species_CULEX PIPIENS/RESTUANS  116293 non-null  float64\n",
      " 22  species_CULEX RESTUANS          116293 non-null  float64\n",
      " 23  species_CULEX SALINARIUS        116293 non-null  float64\n",
      " 24  species_CULEX TARSALIS          116293 non-null  float64\n",
      " 25  species_CULEX TERRITANS         116293 non-null  float64\n",
      "dtypes: float64(19), int64(7)\n",
      "memory usage: 23.1 MB\n"
     ]
    }
   ],
   "source": [
    "# display columns and their datatypes in submission2\n",
    "submission2.info()"
   ]
  },
  {
   "cell_type": "markdown",
   "metadata": {
    "cell_id": "00023-b1ce0fbb-c0c7-4bb3-8eba-66f2fe29d6ea",
    "deepnote_cell_type": "markdown",
    "tags": []
   },
   "source": [
    "## Common Functions"
   ]
  },
  {
   "cell_type": "markdown",
   "metadata": {
    "cell_id": "00024-19e852b1-59f2-4bb8-aaf5-2561f904c043",
    "deepnote_cell_type": "markdown"
   },
   "source": [
    "- Functions are defined to run repeated codes."
   ]
  },
  {
   "cell_type": "code",
   "execution_count": null,
   "metadata": {
    "ExecuteTime": {
     "end_time": "2021-01-07T12:05:34.690966Z",
     "start_time": "2021-01-07T12:05:34.677699Z"
    },
    "cell_id": "00025-08e3c310-e51b-44c6-915b-082e9bcdec24",
    "deepnote_cell_type": "code",
    "deepnote_to_be_reexecuted": false,
    "execution_millis": 0,
    "execution_start": 1610075878294,
    "output_cleared": false,
    "source_hash": "f71ae7b9",
    "tags": []
   },
   "outputs": [],
   "source": [
    "# define function to calculate sensitivity. (True positive rate.)\n",
    "def TPR(df, true_col, pred_prob_col, threshold):\n",
    "    true_positive = df[(df[true_col] == 1) & (df[pred_prob_col] >= threshold)].shape[0]\n",
    "    false_negative = df[(df[true_col] == 1) & (df[pred_prob_col] < threshold)].shape[0]\n",
    "    return true_positive / (true_positive + false_negative)\n",
    "\n",
    "# define function to calculate 1 - specificity. (False positive rate.)\n",
    "def FPR(df, true_col, pred_prob_col, threshold):\n",
    "    true_negative = df[(df[true_col] == 0) & (df[pred_prob_col] <= threshold)].shape[0]\n",
    "    false_positive = df[(df[true_col] == 0) & (df[pred_prob_col] > threshold)].shape[0]\n",
    "    return 1 - (true_negative / (true_negative + false_positive))\n",
    "\n",
    "# define function to plot auc_roc\n",
    "def plot_auc_roc(predicted_proba, y_test):\n",
    "    pred_proba = [i[1] for i in predicted_proba]\n",
    "\n",
    "    pred_df = pd.DataFrame({'true_values': y_test,\n",
    "                            'pred_probs':pred_proba})\n",
    "\n",
    "    # Create figure.\n",
    "    plt.figure(figsize = (10,7))\n",
    "\n",
    "    # Create threshold values.\n",
    "    thresholds = np.linspace(0, 1, 200)\n",
    "        \n",
    "    # Calculate sensitivity & 1-specificity for each threshold between 0 and 1.\n",
    "    tpr_values = [TPR(pred_df, 'true_values', 'pred_probs', prob) for prob in thresholds]\n",
    "    fpr_values = [FPR(pred_df, 'true_values', 'pred_probs', prob) for prob in thresholds]\n",
    "\n",
    "    # Plot ROC curve.\n",
    "    plt.plot(fpr_values, # False Positive Rate on X-axis\n",
    "            tpr_values, # True Positive Rate on Y-axis\n",
    "            label=f'ROC Curve ({roc_auc_score(y_test, pred_proba):.4f})')\n",
    "\n",
    "    # Plot baseline. (Perfect overlap between the two populations.)\n",
    "    plt.plot(np.linspace(0, 1, 200),\n",
    "            np.linspace(0, 1, 200),\n",
    "            label='baseline',\n",
    "            linestyle='--')\n",
    "\n",
    "    # Label axes.\n",
    "    plt.title('Receiver Operating Characteristic Curve', fontsize=22)\n",
    "    plt.ylabel('Sensitivity \\n (True Positive Rate)', fontsize=18)\n",
    "    plt.xlabel('1 - Specificity \\n (False Positive Rate)', fontsize=18)\n",
    "\n",
    "    # Create legend.\n",
    "    plt.legend()\n",
    "    plt.show()"
   ]
  },
  {
   "cell_type": "code",
   "execution_count": null,
   "metadata": {
    "ExecuteTime": {
     "end_time": "2021-01-07T12:05:34.706957Z",
     "start_time": "2021-01-07T12:05:34.693965Z"
    },
    "cell_id": "00026-07f38ea9-d040-48ba-ae11-d96d6978ab6c",
    "deepnote_cell_type": "code",
    "deepnote_to_be_reexecuted": false,
    "execution_millis": 1,
    "execution_start": 1610075878294,
    "source_hash": "e92ad6c0"
   },
   "outputs": [],
   "source": [
    "# define function to get the prediction & prediction probability and run metrics function\n",
    "def model_metrics(model, X_test, y_test):\n",
    "    model_pred = model.predict(X_test)\n",
    "    model_proba = [i[1] for i in model.predict_proba(X_test)]\n",
    "\n",
    "    print('Model Statistics')\n",
    "    print('-------------------------------------------------------')\n",
    "    print(f'ROC-AUC   : {roc_auc_score(y_test, model_proba):.4f}')\n",
    "    print(f'Recall    : {recall_score(y_test, model_pred):.4f}')\n",
    "    print(f'Precision : {precision_score(y_test, model_pred):.4f}')\n",
    "    print(f'F1 Score  : {f1_score(y_test, model_pred):.4f}')\n",
    "    print(f'Accuracy  : {accuracy_score(y_test, model_pred):.4f}')\n",
    "    print('--------------------------------------------------------')\n",
    "    print(pd.DataFrame(confusion_matrix(y_test, model_pred), \n",
    "                        index=['Actual No WNV', 'Actual WNV'], \n",
    "                        columns=['Predicted No WNV', 'Predicted WNV']))\n",
    "    print('-------------------------------------------------------')"
   ]
  },
  {
   "cell_type": "code",
   "execution_count": null,
   "metadata": {
    "ExecuteTime": {
     "end_time": "2021-01-07T12:05:34.722197Z",
     "start_time": "2021-01-07T12:05:34.708955Z"
    },
    "cell_id": "00027-73aea558-ee13-431c-adea-7b86aa238015",
    "deepnote_cell_type": "code",
    "deepnote_to_be_reexecuted": false,
    "execution_millis": 1,
    "execution_start": 1610075878295,
    "source_hash": "f8b5df28"
   },
   "outputs": [],
   "source": [
    "# define function to run GridSearchCV models, display best score & best params and run model_metrics\n",
    "\n",
    "def run_model(model, X_train, y_train, X_test, y_test):\n",
    "    model.fit(X_train, y_train)\n",
    "    model_best_score = round(model.best_score_ ,4)\n",
    "    print(f'Model best score: {model_best_score}')\n",
    "    print(f'Model best params:\\n{model.best_params_}')\n",
    "\n",
    "    model_pred = model.predict(X_test)\n",
    "    model_proba = [i[1] for i in model.predict_proba(X_test)]\n",
    "    \n",
    "    roc_auc = round(roc_auc_score(y_test, model_proba), 4)\n",
    "    recall = round(recall_score(y_test, model_pred), 4)\n",
    "    precision = round(precision_score(y_test, model_pred), 4)\n",
    "    f1 = round(f1_score(y_test, model_pred), 4)\n",
    "    accuracy = round(accuracy_score(y_test, model_pred), 4)\n",
    "                    \n",
    "\n",
    "    print('Model Statistics')\n",
    "    print('-------------------------------------------------------')\n",
    "    print(f'ROC-AUC   : {roc_auc}')\n",
    "    print(f'Recall    : {recall}')\n",
    "    print(f'Precision : {precision}')\n",
    "    print(f'F1 Score  : {f1}')\n",
    "    print(f'Accuracy  : {accuracy}')\n",
    "    print('--------------------------------------------------------')\n",
    "    print(pd.DataFrame(confusion_matrix(y_test, model_pred), \n",
    "                        index=['Actual No WNV', 'Actual WNV'], \n",
    "                        columns=['Predicted No WNV', 'Predicted WNV']))\n",
    "    print('-------------------------------------------------------')\n",
    "    \n",
    "    return model_best_score, roc_auc, recall, precision, f1, accuracy"
   ]
  },
  {
   "cell_type": "code",
   "execution_count": null,
   "metadata": {
    "ExecuteTime": {
     "end_time": "2021-01-07T12:05:34.737327Z",
     "start_time": "2021-01-07T12:05:34.724197Z"
    },
    "cell_id": "00028-91e85716-0288-4d47-8c11-4ec93fd12f09",
    "deepnote_cell_type": "code",
    "deepnote_to_be_reexecuted": false,
    "execution_millis": 0,
    "execution_start": 1610075878343,
    "source_hash": "982cacff"
   },
   "outputs": [],
   "source": [
    "# define function to create a kaggle submission dataset\n",
    "def kaggle_submission(model, name, dataset):\n",
    "    submission_df = test[['id']].copy()\n",
    "    submission_df['WnvPresent'] = model.predict_proba(dataset)[:,1]\n",
    "\n",
    "    submission_df.to_csv(f'assets/kaggle_' + name + '.csv', index = False)"
   ]
  },
  {
   "cell_type": "markdown",
   "metadata": {
    "cell_id": "00029-6658f4e5-0e2b-4f38-b8f0-1a29e4bb32cc",
    "deepnote_cell_type": "markdown",
    "tags": []
   },
   "source": [
    "## Modeling with No Tuning\n",
    "The purpose of this section is to **determine two items**:\n",
    "1. Whether to use dataset with **1 week** or **2 weeks rolling average information**\n",
    "2. How to **handle the imbalanced data**\n",
    "    - SMOTETomek\n",
    "    - Using weight class variable in the models\n",
    "    \n",
    "After the above two items are determined, models will be tuned for better and more consistent results."
   ]
  },
  {
   "cell_type": "markdown",
   "metadata": {
    "cell_id": "00030-e50d0ac6-9425-4309-9aba-0fc60d3229be",
    "deepnote_cell_type": "markdown"
   },
   "source": [
    "### Models using SMOTETomek\n",
    "SMOTETomek is one of the ways to handle **imbalanced dataset**. \n",
    "\n",
    "From the above, we saw that the percentage of true y-values (1) is only 5%, hence, this dataset is extremely imbalanced. SMOTETomek is a method that does an **oversampling (SMOTE)** and then an **undersampling (Tomek links)** to rectify the imbalance."
   ]
  },
  {
   "cell_type": "code",
   "execution_count": null,
   "metadata": {
    "ExecuteTime": {
     "end_time": "2021-01-07T12:05:45.485527Z",
     "start_time": "2021-01-07T12:05:34.738327Z"
    },
    "cell_id": "00031-e028f2f5-66d6-49fd-87c5-5c7e3c051d24",
    "deepnote_cell_type": "code",
    "deepnote_to_be_reexecuted": false,
    "execution_millis": 8388,
    "execution_start": 1610075878344,
    "source_hash": "19925f6a"
   },
   "outputs": [],
   "source": [
    "# sampling strategy is the desired ratio of samples of minority class over majority class after resampling\n",
    "# set to 1 for a balanced dataset after resampling\n",
    "st = SMOTETomek(random_state = 42, sampling_strategy=1)\n",
    "\n",
    "X1_train_st, y1_train_st = st.fit_resample(X1_train_sc, y1_train)\n",
    "X2_train_st, y2_train_st = st.fit_resample(X2_train_sc, y2_train)"
   ]
  },
  {
   "cell_type": "markdown",
   "metadata": {
    "cell_id": "00032-34668421-75a7-4e52-a4dc-8b5e2857e97a",
    "deepnote_cell_type": "markdown"
   },
   "source": [
    "#### Logistic Regression"
   ]
  },
  {
   "cell_type": "code",
   "execution_count": null,
   "metadata": {
    "ExecuteTime": {
     "end_time": "2021-01-07T12:05:47.084561Z",
     "start_time": "2021-01-07T12:05:45.490529Z"
    },
    "cell_id": "00033-f706caaf-3567-4ebd-9c85-5aba3d18f69a",
    "deepnote_cell_type": "code",
    "deepnote_to_be_reexecuted": false,
    "execution_millis": 7467,
    "execution_start": 1610075886735,
    "source_hash": "d2502a4b"
   },
   "outputs": [
    {
     "name": "stdout",
     "output_type": "stream",
     "text": [
      "===============================\n",
      "1 Week Rolling Average Dataset\n",
      "===============================\n",
      "Training score: 0.8112\n",
      "\n",
      "Model Statistics\n",
      "-------------------------------------------------------\n",
      "ROC-AUC   : 0.7988\n",
      "Recall    : 0.7455\n",
      "Precision : 0.1241\n",
      "F1 Score  : 0.2127\n",
      "Accuracy  : 0.7112\n",
      "--------------------------------------------------------\n",
      "               Predicted No WNV  Predicted WNV\n",
      "Actual No WNV              1413            579\n",
      "Actual WNV                   28             82\n",
      "-------------------------------------------------------\n",
      "\n",
      "\n",
      "===============================\n",
      "2 Weeks Rolling Average Dataset\n",
      "===============================\n",
      "Training score: 0.8112\n",
      "\n",
      "Model Statistics\n",
      "-------------------------------------------------------\n",
      "ROC-AUC   : 0.8050\n",
      "Recall    : 0.8091\n",
      "Precision : 0.1246\n",
      "F1 Score  : 0.2160\n",
      "Accuracy  : 0.6927\n",
      "--------------------------------------------------------\n",
      "               Predicted No WNV  Predicted WNV\n",
      "Actual No WNV              1367            625\n",
      "Actual WNV                   21             89\n",
      "-------------------------------------------------------\n",
      "\n",
      "\n"
     ]
    }
   ],
   "source": [
    "for name, X_train, y_train, X_test, y_test in [['1 Week Rolling Average Dataset', X1_train_st, y1_train_st, X1_test_sc, y1_test],\n",
    "                                               ['2 Weeks Rolling Average Dataset', X2_train_st, y2_train_st, X2_test_sc, y2_test]]:\n",
    "\n",
    "    print('===============================')\n",
    "    print(name)\n",
    "    print('===============================')\n",
    "\n",
    "    lr_smote = LogisticRegression(max_iter=1000)\n",
    "\n",
    "    lr_smote.fit(X_train, y_train)\n",
    "\n",
    "    print(f\"Training score: {np.mean(cross_val_score(lr_smote, X2_train_sc, y2_train, scoring = 'roc_auc')):.4f}\\n\")\n",
    "\n",
    "    model_metrics(lr_smote, X_test, y_test)\n",
    "    print('\\n')"
   ]
  },
  {
   "cell_type": "markdown",
   "metadata": {
    "cell_id": "00034-57c0cf0e-2aba-421d-a87b-c905725eeaaa",
    "deepnote_cell_type": "markdown"
   },
   "source": [
    "Dataset with 2 weeks rolling average information performs better in almost all metrics."
   ]
  },
  {
   "cell_type": "markdown",
   "metadata": {
    "cell_id": "00035-103ccb65-234d-4b09-9661-94bc78e6a74f",
    "deepnote_cell_type": "markdown"
   },
   "source": [
    "#### Random Forest"
   ]
  },
  {
   "cell_type": "code",
   "execution_count": null,
   "metadata": {
    "ExecuteTime": {
     "end_time": "2021-01-07T12:06:02.208070Z",
     "start_time": "2021-01-07T12:05:47.087560Z"
    },
    "cell_id": "00036-174890eb-9e61-4910-996a-d6177a1f61c0",
    "deepnote_cell_type": "code",
    "deepnote_to_be_reexecuted": false,
    "execution_millis": 10233,
    "execution_start": 1610075894263,
    "scrolled": false,
    "source_hash": "12c5ac80"
   },
   "outputs": [
    {
     "name": "stdout",
     "output_type": "stream",
     "text": [
      "===============================\n",
      "1 Week Rolling Average Dataset\n",
      "===============================\n",
      "Training score: 0.7661\n",
      "\n",
      "Model Statistics\n",
      "-------------------------------------------------------\n",
      "ROC-AUC   : 0.7545\n",
      "Recall    : 0.3000\n",
      "Precision : 0.1675\n",
      "F1 Score  : 0.2150\n",
      "Accuracy  : 0.8853\n",
      "--------------------------------------------------------\n",
      "               Predicted No WNV  Predicted WNV\n",
      "Actual No WNV              1828            164\n",
      "Actual WNV                   77             33\n",
      "-------------------------------------------------------\n",
      "\n",
      "\n",
      "===============================\n",
      "2 Weeks Rolling Average Dataset\n",
      "===============================\n",
      "Training score: 0.7661\n",
      "\n",
      "Model Statistics\n",
      "-------------------------------------------------------\n",
      "ROC-AUC   : 0.7443\n",
      "Recall    : 0.3000\n",
      "Precision : 0.1675\n",
      "F1 Score  : 0.2150\n",
      "Accuracy  : 0.8853\n",
      "--------------------------------------------------------\n",
      "               Predicted No WNV  Predicted WNV\n",
      "Actual No WNV              1828            164\n",
      "Actual WNV                   77             33\n",
      "-------------------------------------------------------\n",
      "\n",
      "\n"
     ]
    }
   ],
   "source": [
    "for name, X_train, y_train, X_test, y_test in [['1 Week Rolling Average Dataset', X1_train_st, y1_train_st, X1_test_sc, y1_test],\n",
    "                                               ['2 Weeks Rolling Average Dataset', X2_train_st, y2_train_st, X2_test_sc, y2_test]]:\n",
    "\n",
    "    print('===============================')\n",
    "    print(name)\n",
    "    print('===============================')\n",
    "\n",
    "    rf_smote = RandomForestClassifier(random_state = 42)\n",
    "\n",
    "    rf_smote.fit(X_train, y_train)\n",
    "\n",
    "    print(f\"Training score: {np.mean(cross_val_score(rf_smote, X2_train_sc, y2_train, scoring = 'roc_auc')):.4f}\\n\")\n",
    "\n",
    "    model_metrics(rf_smote, X_test, y_test)\n",
    "    print('\\n')"
   ]
  },
  {
   "cell_type": "markdown",
   "metadata": {
    "cell_id": "00037-ecf518e7-78a9-4e0e-82f6-66df0cc2fa73",
    "deepnote_cell_type": "markdown"
   },
   "source": [
    "Both datasets have similar performance. Both models have lower scores compared to other models."
   ]
  },
  {
   "cell_type": "markdown",
   "metadata": {
    "cell_id": "00038-57e86640-0ae1-4f71-9775-20a05008a14c",
    "deepnote_cell_type": "markdown"
   },
   "source": [
    "#### XGBoost"
   ]
  },
  {
   "cell_type": "code",
   "execution_count": null,
   "metadata": {
    "ExecuteTime": {
     "end_time": "2021-01-07T12:06:12.668112Z",
     "start_time": "2021-01-07T12:06:02.210054Z"
    },
    "cell_id": "00039-5f1ef407-90dd-4ec9-9a85-9c597095c071",
    "deepnote_cell_type": "code",
    "deepnote_to_be_reexecuted": false,
    "execution_millis": 147243,
    "execution_start": 1610076037012,
    "scrolled": false,
    "source_hash": "e0e0fd20"
   },
   "outputs": [
    {
     "name": "stdout",
     "output_type": "stream",
     "text": [
      "===============================\n",
      "1 Week Rolling Average Dataset\n",
      "===============================\n",
      "Training score: 0.8226\n",
      "\n",
      "Model Statistics\n",
      "-------------------------------------------------------\n",
      "ROC-AUC   : 0.8158\n",
      "Recall    : 0.3636\n",
      "Precision : 0.2367\n",
      "F1 Score  : 0.2867\n",
      "Accuracy  : 0.9053\n",
      "--------------------------------------------------------\n",
      "               Predicted No WNV  Predicted WNV\n",
      "Actual No WNV              1863            129\n",
      "Actual WNV                   70             40\n",
      "-------------------------------------------------------\n",
      "\n",
      "\n",
      "===============================\n",
      "2 Weeks Rolling Average Dataset\n",
      "===============================\n",
      "Training score: 0.8226\n",
      "\n",
      "Model Statistics\n",
      "-------------------------------------------------------\n",
      "ROC-AUC   : 0.8069\n",
      "Recall    : 0.3455\n",
      "Precision : 0.2303\n",
      "F1 Score  : 0.2764\n",
      "Accuracy  : 0.9053\n",
      "--------------------------------------------------------\n",
      "               Predicted No WNV  Predicted WNV\n",
      "Actual No WNV              1865            127\n",
      "Actual WNV                   72             38\n",
      "-------------------------------------------------------\n",
      "\n",
      "\n"
     ]
    }
   ],
   "source": [
    "for name, X_train, y_train, X_test, y_test in [['1 Week Rolling Average Dataset', X1_train_st, y1_train_st, X1_test_sc, y1_test],\n",
    "                                               ['2 Weeks Rolling Average Dataset', X2_train_st, y2_train_st, X2_test_sc, y2_test]]:\n",
    "\n",
    "    print('===============================')\n",
    "    print(name)\n",
    "    print('===============================')\n",
    "\n",
    "    xgb_smote = XGBClassifier(random_state = 42, eval_metric = 'auc', use_label_encoder=False)\n",
    "\n",
    "    xgb_smote.fit(X_train, y_train)\n",
    "\n",
    "    print(f\"Training score: {np.mean(cross_val_score(xgb_smote, X2_train_sc, y2_train, scoring = 'roc_auc')):.4f}\\n\")\n",
    "\n",
    "    model_metrics(xgb_smote, X_test, y_test)\n",
    "    print('\\n')"
   ]
  },
  {
   "cell_type": "markdown",
   "metadata": {
    "cell_id": "00040-b2de6ed3-de2b-41fc-a555-a22e0dcfc805",
    "deepnote_cell_type": "markdown"
   },
   "source": [
    "Dataset with 2 weeks rolling average performs better in almost all metrics."
   ]
  },
  {
   "cell_type": "markdown",
   "metadata": {
    "cell_id": "00041-54b466cd-aabc-4845-b0f2-d09b3ac64ac6",
    "deepnote_cell_type": "markdown"
   },
   "source": [
    "#### Conclusion from models using SMOTETomek\n",
    "=======================================\n",
    "\n",
    "From all models, the dataset with **2 weeks rolling average information performed better** (in terms of ROC-AUC, recall and F1 score) than the dataset with 1 week rolling average information.\n",
    "\n",
    "This make logical sense as the **typical life cycle of mosquito is about 2 weeks** [[Source]](https://www.epa.gov/mosquitocontrol/mosquito-life-cycle). Hence, looking at the previous 2 weeks weather condition would be a better predictor of the number of mosquitos in the area, which then helps to predict whether there are mosquitos carrying the WNV."
   ]
  },
  {
   "cell_type": "markdown",
   "metadata": {
    "cell_id": "00042-b3e04f8f-f018-4dc3-a4d3-5c3f4c03aef4",
    "deepnote_cell_type": "markdown"
   },
   "source": [
    "### Models using Class Weight\n",
    "Class weight is another way to handle **imbalanced dataset**. The class weight attribute will put a different weightage to the different classes. \n",
    "\n",
    "For example, if the ratio of y-values True : False in a dataset is 1 : 10. Then for each True, the model will put a weight of 10 in order to have the same overall weightage as False.\n",
    "\n",
    "Do note that different models implement the class weight slightly differently."
   ]
  },
  {
   "cell_type": "markdown",
   "metadata": {
    "cell_id": "00043-f36627fe-ffdb-45b3-af08-8acde6ea7668",
    "deepnote_cell_type": "markdown"
   },
   "source": [
    "#### Logistic Regression"
   ]
  },
  {
   "cell_type": "code",
   "execution_count": null,
   "metadata": {
    "ExecuteTime": {
     "end_time": "2021-01-07T12:06:13.867805Z",
     "start_time": "2021-01-07T12:06:12.669112Z"
    },
    "cell_id": "00044-e25921e8-744d-476b-b535-fd2b420999b5",
    "deepnote_cell_type": "code",
    "deepnote_to_be_reexecuted": false,
    "execution_millis": 6809,
    "execution_start": 1610076184257,
    "source_hash": "e3f0be85"
   },
   "outputs": [
    {
     "name": "stdout",
     "output_type": "stream",
     "text": [
      "===============================\n",
      "1 Week Rolling Average Dataset\n",
      "===============================\n",
      "Training score: 0.8120\n",
      "\n",
      "Model Statistics\n",
      "-------------------------------------------------------\n",
      "ROC-AUC   : 0.7981\n",
      "Recall    : 0.7636\n",
      "Precision : 0.1180\n",
      "F1 Score  : 0.2044\n",
      "Accuracy  : 0.6889\n",
      "--------------------------------------------------------\n",
      "               Predicted No WNV  Predicted WNV\n",
      "Actual No WNV              1364            628\n",
      "Actual WNV                   26             84\n",
      "-------------------------------------------------------\n",
      "\n",
      "\n",
      "===============================\n",
      "2 Weeks Rolling Average Dataset\n",
      "===============================\n",
      "Training score: 0.8120\n",
      "\n",
      "Model Statistics\n",
      "-------------------------------------------------------\n",
      "ROC-AUC   : 0.8048\n",
      "Recall    : 0.8182\n",
      "Precision : 0.1213\n",
      "F1 Score  : 0.2113\n",
      "Accuracy  : 0.6803\n",
      "--------------------------------------------------------\n",
      "               Predicted No WNV  Predicted WNV\n",
      "Actual No WNV              1340            652\n",
      "Actual WNV                   20             90\n",
      "-------------------------------------------------------\n",
      "\n",
      "\n"
     ]
    }
   ],
   "source": [
    "for name, X_train, y_train, X_test, y_test in [['1 Week Rolling Average Dataset', X1_train_sc, y1_train, X1_test_sc, y1_test],\n",
    "                                               ['2 Weeks Rolling Average Dataset', X2_train_sc, y2_train, X2_test_sc, y2_test]]:\n",
    "\n",
    "    print('===============================')\n",
    "    print(name)\n",
    "    print('===============================')\n",
    "\n",
    "    # the \"balanced\" mode is a built in function in sklearn's LogisticRegression\n",
    "    # it uses the values of y to automatically adjust weights inversely proportional to class frequencies in the input data\n",
    "\n",
    "    lr_base = LogisticRegression(max_iter=1000, class_weight = 'balanced')\n",
    "\n",
    "    lr_base.fit(X_train, y_train)\n",
    "\n",
    "    print(f\"Training score: {np.mean(cross_val_score(lr_base, X2_train_sc, y2_train, scoring = 'roc_auc')):.4f}\\n\")\n",
    "\n",
    "    model_metrics(lr_base, X_test, y_test)\n",
    "    print('\\n')"
   ]
  },
  {
   "cell_type": "markdown",
   "metadata": {
    "cell_id": "00045-3fc2a441-8092-47fd-88a4-436e395a8635",
    "deepnote_cell_type": "markdown"
   },
   "source": [
    "Dataset with 2 weeks rolling average information performs better in almost all metrics."
   ]
  },
  {
   "cell_type": "markdown",
   "metadata": {
    "cell_id": "00046-0ab06ba8-7a9b-424c-9e63-c57959954497",
    "deepnote_cell_type": "markdown"
   },
   "source": [
    "#### Random Forest"
   ]
  },
  {
   "cell_type": "code",
   "execution_count": null,
   "metadata": {
    "ExecuteTime": {
     "end_time": "2021-01-07T12:06:23.589604Z",
     "start_time": "2021-01-07T12:06:13.870803Z"
    },
    "cell_id": "00047-dc689574-7f0a-4758-b39d-45c4d840ee58",
    "deepnote_cell_type": "code",
    "deepnote_to_be_reexecuted": false,
    "execution_millis": 8078,
    "execution_start": 1610076191069,
    "scrolled": false,
    "source_hash": "4f732902"
   },
   "outputs": [
    {
     "name": "stdout",
     "output_type": "stream",
     "text": [
      "===============================\n",
      "1 Week Rolling Average Dataset\n",
      "===============================\n",
      "Training score: 0.7659\n",
      "\n",
      "Model Statistics\n",
      "-------------------------------------------------------\n",
      "ROC-AUC   : 0.7455\n",
      "Recall    : 0.2455\n",
      "Precision : 0.2077\n",
      "F1 Score  : 0.2250\n",
      "Accuracy  : 0.9115\n",
      "--------------------------------------------------------\n",
      "               Predicted No WNV  Predicted WNV\n",
      "Actual No WNV              1889            103\n",
      "Actual WNV                   83             27\n",
      "-------------------------------------------------------\n",
      "\n",
      "\n",
      "===============================\n",
      "2 Weeks Rolling Average Dataset\n",
      "===============================\n",
      "Training score: 0.7659\n",
      "\n",
      "Model Statistics\n",
      "-------------------------------------------------------\n",
      "ROC-AUC   : 0.7532\n",
      "Recall    : 0.2455\n",
      "Precision : 0.2093\n",
      "F1 Score  : 0.2259\n",
      "Accuracy  : 0.9120\n",
      "--------------------------------------------------------\n",
      "               Predicted No WNV  Predicted WNV\n",
      "Actual No WNV              1890            102\n",
      "Actual WNV                   83             27\n",
      "-------------------------------------------------------\n",
      "\n",
      "\n"
     ]
    }
   ],
   "source": [
    "for name, X_train, y_train, X_test, y_test in [['1 Week Rolling Average Dataset', X1_train_sc, y1_train, X1_test_sc, y1_test],\n",
    "                                               ['2 Weeks Rolling Average Dataset', X2_train_sc, y2_train, X2_test_sc, y2_test]]:\n",
    "\n",
    "    print('===============================')\n",
    "    print(name)\n",
    "    print('===============================')\n",
    "\n",
    "    # the \"balanced\" mode is a built in function in sklearn's RandomForestClassifier (same as LogisticRegression)\n",
    "    # it uses the values of y to automatically adjust weights inversely proportional to class frequencies in the input data\n",
    "    rf_base = RandomForestClassifier(random_state = 42, class_weight = 'balanced')\n",
    "\n",
    "    rf_base.fit(X_train, y_train)\n",
    "\n",
    "    print(f\"Training score: {np.mean(cross_val_score(rf_base, X2_train_sc, y2_train, scoring = 'roc_auc')):.4f}\\n\")\n",
    "\n",
    "    model_metrics(rf_base, X_test, y_test)\n",
    "    print('\\n')"
   ]
  },
  {
   "cell_type": "markdown",
   "metadata": {
    "cell_id": "00048-c307481b-9adc-46a1-9e53-bc173a3d6186",
    "deepnote_cell_type": "markdown"
   },
   "source": [
    "Dataset with 2 week rolling average information performs better in almost all metrics. Both models have very low scores compared to other models."
   ]
  },
  {
   "cell_type": "code",
   "execution_count": null,
   "metadata": {
    "ExecuteTime": {
     "end_time": "2021-01-07T12:06:37.373029Z",
     "start_time": "2021-01-07T12:06:23.591603Z"
    },
    "cell_id": "00049-8f087f49-6131-48a7-a3d8-b699371f7fbf",
    "deepnote_cell_type": "code",
    "deepnote_to_be_reexecuted": false,
    "execution_millis": 10060,
    "execution_start": 1610076337232,
    "source_hash": "404cbd15"
   },
   "outputs": [
    {
     "name": "stdout",
     "output_type": "stream",
     "text": [
      "===============================\n",
      "1 Week Rolling Average Dataset\n",
      "===============================\n",
      "Training score: 0.7674\n",
      "\n",
      "Model Statistics\n",
      "-------------------------------------------------------\n",
      "ROC-AUC   : 0.7569\n",
      "Recall    : 0.2455\n",
      "Precision : 0.2126\n",
      "F1 Score  : 0.2278\n",
      "Accuracy  : 0.9129\n",
      "--------------------------------------------------------\n",
      "               Predicted No WNV  Predicted WNV\n",
      "Actual No WNV              1892            100\n",
      "Actual WNV                   83             27\n",
      "-------------------------------------------------------\n",
      "\n",
      "\n",
      "===============================\n",
      "2 Weeks Rolling Average Dataset\n",
      "===============================\n",
      "Training score: 0.7674\n",
      "\n",
      "Model Statistics\n",
      "-------------------------------------------------------\n",
      "ROC-AUC   : 0.7494\n",
      "Recall    : 0.2455\n",
      "Precision : 0.2093\n",
      "F1 Score  : 0.2259\n",
      "Accuracy  : 0.9120\n",
      "--------------------------------------------------------\n",
      "               Predicted No WNV  Predicted WNV\n",
      "Actual No WNV              1890            102\n",
      "Actual WNV                   83             27\n",
      "-------------------------------------------------------\n",
      "\n",
      "\n"
     ]
    }
   ],
   "source": [
    "for name, X_train, y_train, X_test, y_test in [['1 Week Rolling Average Dataset', X1_train_sc, y1_train, X1_test_sc, y1_test],\n",
    "                                               ['2 Weeks Rolling Average Dataset', X2_train_sc, y2_train, X2_test_sc, y2_test]]:\n",
    "\n",
    "    print('===============================')\n",
    "    print(name)\n",
    "    print('===============================')\n",
    "\n",
    "    # the \"balanced_subsample\" mode is a built in function in sklearn's RandomForestClassifier\n",
    "    # it uses the values of y to automatically adjust weights inversely proportional to class frequencies in the input data\n",
    "    # however, the weights are computed based on the bootstrap sample for every tree\n",
    "    rf_base2 = RandomForestClassifier(random_state = 42, class_weight = 'balanced_subsample')\n",
    "\n",
    "    rf_base2.fit(X_train, y_train)\n",
    "\n",
    "    print(f\"Training score: {np.mean(cross_val_score(rf_base2, X2_train_sc, y2_train, scoring = 'roc_auc')):.4f}\\n\")\n",
    "\n",
    "    model_metrics(rf_base2, X_test, y_test)\n",
    "    print('\\n')"
   ]
  },
  {
   "cell_type": "markdown",
   "metadata": {
    "cell_id": "00050-5ee1d07f-4d32-4f93-87fc-669d1520f0c4",
    "deepnote_cell_type": "markdown"
   },
   "source": [
    "Dataset with 2 weeks rolling average information performs better in all metrics. Both models have very low scores compared to other models."
   ]
  },
  {
   "cell_type": "markdown",
   "metadata": {
    "cell_id": "00051-e33d4ed3-33f9-4a8a-9874-284eb2dd8b1b",
    "deepnote_cell_type": "markdown"
   },
   "source": [
    "#### XGBoost"
   ]
  },
  {
   "cell_type": "code",
   "execution_count": null,
   "metadata": {
    "ExecuteTime": {
     "end_time": "2021-01-07T12:06:44.687845Z",
     "start_time": "2021-01-07T12:06:37.375028Z"
    },
    "cell_id": "00052-6c507683-378d-4862-8fa4-b51431b1213a",
    "deepnote_cell_type": "code",
    "deepnote_to_be_reexecuted": false,
    "execution_millis": 115416,
    "execution_start": 1610076347303,
    "source_hash": "d6ba96c3"
   },
   "outputs": [
    {
     "name": "stdout",
     "output_type": "stream",
     "text": [
      "===============================\n",
      "1 Week Rolling Average Dataset\n",
      "===============================\n",
      "Training score: 0.8142\n",
      "\n",
      "Model Statistics\n",
      "-------------------------------------------------------\n",
      "ROC-AUC   : 0.8243\n",
      "Recall    : 0.4545\n",
      "Precision : 0.1946\n",
      "F1 Score  : 0.2725\n",
      "Accuracy  : 0.8730\n",
      "--------------------------------------------------------\n",
      "               Predicted No WNV  Predicted WNV\n",
      "Actual No WNV              1785            207\n",
      "Actual WNV                   60             50\n",
      "-------------------------------------------------------\n",
      "\n",
      "\n",
      "===============================\n",
      "2 Weeks Rolling Average Dataset\n",
      "===============================\n",
      "Training score: 0.8142\n",
      "\n",
      "Model Statistics\n",
      "-------------------------------------------------------\n",
      "ROC-AUC   : 0.8194\n",
      "Recall    : 0.4364\n",
      "Precision : 0.1798\n",
      "F1 Score  : 0.2546\n",
      "Accuracy  : 0.8663\n",
      "--------------------------------------------------------\n",
      "               Predicted No WNV  Predicted WNV\n",
      "Actual No WNV              1773            219\n",
      "Actual WNV                   62             48\n",
      "-------------------------------------------------------\n",
      "\n",
      "\n"
     ]
    }
   ],
   "source": [
    "for name, X_train, y_train, X_test, y_test in [['1 Week Rolling Average Dataset', X1_train_sc, y1_train, X1_test_sc, y1_test],\n",
    "                                               ['2 Weeks Rolling Average Dataset', X2_train_sc, y2_train, X2_test_sc, y2_test]]:\n",
    "\n",
    "    print('===============================')\n",
    "    print(name)\n",
    "    print('===============================')\n",
    "\n",
    "    # the \"scale_pos_weight\" is a built an attribute in XGBClassifier\n",
    "    # recommended typical value to consider is: sum(negative instances) / sum(positive instances) uses the values of y to automatically adjust weights inversely proportional to class frequencies in the input data\n",
    "    # based on 0.94 / 0.052, the weight we will try is 18\n",
    "    xgb_base = XGBClassifier(random_state = 42, eval_metric = 'auc', use_label_encoder=False, scale_pos_weight = 18)\n",
    "\n",
    "    xgb_base.fit(X_train, y_train)\n",
    "\n",
    "    print(f\"Training score: {np.mean(cross_val_score(xgb_base, X2_train_sc, y2_train, scoring = 'roc_auc')):.4f}\\n\")\n",
    "\n",
    "    model_metrics(xgb_base, X_test, y_test)\n",
    "    print('\\n')"
   ]
  },
  {
   "cell_type": "markdown",
   "metadata": {
    "cell_id": "00053-8863464b-0930-4d71-bde3-5b0371a5d013",
    "deepnote_cell_type": "markdown"
   },
   "source": [
    "Dataset with 2 weeks rolling average information performs better in almost all metrics."
   ]
  },
  {
   "cell_type": "markdown",
   "metadata": {
    "cell_id": "00054-0f517bca-918d-42f2-bb72-e86c4d58bbaa",
    "deepnote_cell_type": "markdown"
   },
   "source": [
    "#### Conclusion from models using class weight\n",
    "======================================\n",
    "\n",
    "**Class Weight vs SMOTETomek**\n",
    "\n",
    "Comparing with models using dataset that had undergone SMOTETomek transformation to handle the imbalanced class, the models using **Class Weights variables performs better**. As such, the class weight variables will be used to handle the imbalanced dataset. \n",
    "\n",
    "This also prevents the problem of requiring heavy computational power to run SMOTETomek in GridSearchCV pipelines.\n",
    "\n",
    "**1 week vs 2 weeks rolling average data**\n",
    "\n",
    "From all the above models, generally 2 weeks rolling average data performs better. As explained above, the 2 weeks period also makes logical sense as it is the period of the typical life cycle of a mosquito.  As such, for subsequent training, it will be done using the dataset with 2 weeks rolling average information"
   ]
  },
  {
   "cell_type": "markdown",
   "metadata": {
    "cell_id": "00055-b890f770-6d66-4f57-acdc-f0954807d16a",
    "deepnote_cell_type": "markdown"
   },
   "source": [
    "## Models with Tuning\n",
    "The below section will tune the hyperparameters of the models for better and more consistent results."
   ]
  },
  {
   "cell_type": "code",
   "execution_count": null,
   "metadata": {
    "ExecuteTime": {
     "end_time": "2021-01-07T12:06:44.702856Z",
     "start_time": "2021-01-07T12:06:44.688844Z"
    },
    "cell_id": "00056-47ba3837-6754-4cf6-9045-7f997d68f564",
    "deepnote_cell_type": "code",
    "deepnote_to_be_reexecuted": false,
    "execution_millis": 0,
    "execution_start": 1610030287268,
    "source_hash": "a7132a99",
    "tags": []
   },
   "outputs": [],
   "source": [
    "model_dict = dict()"
   ]
  },
  {
   "cell_type": "markdown",
   "metadata": {
    "cell_id": "00057-d4cf5009-08b3-4609-97d7-0ff2b8520b60",
    "deepnote_cell_type": "markdown"
   },
   "source": [
    "### Logistic Regression"
   ]
  },
  {
   "cell_type": "code",
   "execution_count": null,
   "metadata": {
    "ExecuteTime": {
     "end_time": "2021-01-07T12:07:08.833905Z",
     "start_time": "2021-01-07T12:06:44.703855Z"
    },
    "cell_id": "00058-fbc4407e-452e-4919-ac69-f5e33469fc60",
    "deepnote_cell_type": "code",
    "deepnote_to_be_reexecuted": false,
    "execution_millis": 134945,
    "execution_start": 1610030287269,
    "source_hash": "e75a8106"
   },
   "outputs": [
    {
     "name": "stdout",
     "output_type": "stream",
     "text": [
      "Fitting 4 folds for each of 100 candidates, totalling 400 fits\n",
      "[Parallel(n_jobs=-2)]: Using backend SequentialBackend with 1 concurrent workers.\n",
      "[Parallel(n_jobs=-2)]: Done 400 out of 400 | elapsed:  2.2min finished\n",
      "Model best score: 0.8135\n",
      "Model best params:\n",
      "{'C': 1.0, 'class_weight': {0: 1, 1: 18}}\n",
      "Model Statistics\n",
      "-------------------------------------------------------\n",
      "ROC-AUC   : 0.8049\n",
      "Recall    : 0.8182\n",
      "Precision : 0.122\n",
      "F1 Score  : 0.2123\n",
      "Accuracy  : 0.6822\n",
      "--------------------------------------------------------\n",
      "               Predicted No WNV  Predicted WNV\n",
      "Actual No WNV              1344            648\n",
      "Actual WNV                   20             90\n",
      "-------------------------------------------------------\n"
     ]
    }
   ],
   "source": [
    "# define hyperparamters to GridSearch\n",
    "logreg_params = {\n",
    "    'C': [a for a in np.linspace(0.01,1,50)],\n",
    "    'class_weight': [{0: 1, 1: 18}, 'balanced'],\n",
    "}\n",
    "\n",
    "# GridSearch for best hyperparamters\n",
    "logreg_grid = GridSearchCV(LogisticRegression(max_iter = 10_000),\n",
    "                       param_grid=logreg_params,\n",
    "                       cv=4,\n",
    "                       scoring='roc_auc',\n",
    "                       return_train_score=True,\n",
    "                       verbose = 1,\n",
    "                       n_jobs = -2\n",
    "                       )\n",
    "\n",
    "# run model and obtain model metrics\n",
    "model_dict['logistic_regression'] = run_model(logreg_grid, X2_train_sc, y2_train, X2_test_sc, y2_test)"
   ]
  },
  {
   "cell_type": "code",
   "execution_count": null,
   "metadata": {
    "ExecuteTime": {
     "end_time": "2021-01-07T12:07:08.848895Z",
     "start_time": "2021-01-07T12:07:08.837902Z"
    },
    "cell_id": "00059-dd15edf2-c370-4eca-a929-38961d2c8ea2",
    "deepnote_cell_type": "code",
    "deepnote_to_be_reexecuted": false,
    "execution_millis": 2,
    "execution_start": 1610030422216,
    "source_hash": "bd9bbcb4"
   },
   "outputs": [],
   "source": [
    "# export data for kaggle submission\n",
    "# kaggle_submission(logreg_grid, 'logreg_withtuning_060121', submission2_sc)"
   ]
  },
  {
   "cell_type": "markdown",
   "metadata": {
    "cell_id": "00060-41fa2734-055e-4bd4-ac2b-5548cb8d71e3",
    "deepnote_cell_type": "markdown"
   },
   "source": [
    "### Random Forest"
   ]
  },
  {
   "cell_type": "code",
   "execution_count": null,
   "metadata": {
    "ExecuteTime": {
     "end_time": "2021-01-07T12:12:22.184414Z",
     "start_time": "2021-01-07T12:07:08.850895Z"
    },
    "cell_id": "00061-e840b258-7035-4bd4-9924-960e5bd9ae20",
    "deepnote_cell_type": "code",
    "deepnote_to_be_reexecuted": false,
    "execution_millis": 576732,
    "execution_start": 1610030422225,
    "source_hash": "8735b37e"
   },
   "outputs": [
    {
     "name": "stdout",
     "output_type": "stream",
     "text": [
      "Fitting 4 folds for each of 216 candidates, totalling 864 fits\n",
      "[Parallel(n_jobs=-2)]: Using backend SequentialBackend with 1 concurrent workers.\n",
      "[Parallel(n_jobs=-2)]: Done 864 out of 864 | elapsed:  9.6min finished\n",
      "Model best score: 0.8425\n",
      "Model best params:\n",
      "{'class_weight': 'balanced_subsample', 'max_depth': 7, 'min_samples_leaf': 5, 'min_samples_split': 4, 'n_estimators': 50}\n",
      "Model Statistics\n",
      "-------------------------------------------------------\n",
      "ROC-AUC   : 0.8258\n",
      "Recall    : 0.7091\n",
      "Precision : 0.1461\n",
      "F1 Score  : 0.2422\n",
      "Accuracy  : 0.7678\n",
      "--------------------------------------------------------\n",
      "               Predicted No WNV  Predicted WNV\n",
      "Actual No WNV              1536            456\n",
      "Actual WNV                   32             78\n",
      "-------------------------------------------------------\n"
     ]
    }
   ],
   "source": [
    "# define hyperparamters to GridSearch\n",
    "rf_params = {\n",
    "    'n_estimators': [50, 100, 150, 200],\n",
    "    'max_depth': [5, 6, 7],\n",
    "    'min_samples_leaf': [5, 6, 7],\n",
    "    'min_samples_split': [4, 6, 8],\n",
    "    'class_weight': [{0: 1, 1: 18}, 'balanced_subsample']\n",
    "}\n",
    "\n",
    "# GridSearch for best hyperparamters\n",
    "rf_grid = GridSearchCV(RandomForestClassifier(random_state = 42),\n",
    "                       param_grid=rf_params,\n",
    "                       cv=4,\n",
    "                       scoring='roc_auc',\n",
    "                       return_train_score=True,\n",
    "                       verbose = 1,\n",
    "                       n_jobs = -2\n",
    "                       )\n",
    "\n",
    "# run model and obtain model metrics\n",
    "model_dict['random_forest'] = run_model(rf_grid, X2_train_sc, y2_train, X2_test_sc, y2_test)"
   ]
  },
  {
   "cell_type": "markdown",
   "metadata": {
    "cell_id": "00062-4e33c3b1-3c0e-4cc8-9b5b-5d0b6028a4fd",
    "deepnote_cell_type": "markdown"
   },
   "source": [
    "This result is a huge improvement from the model with no tuning where the ROC-AUC score was generally around 0.75."
   ]
  },
  {
   "cell_type": "code",
   "execution_count": null,
   "metadata": {
    "ExecuteTime": {
     "end_time": "2021-01-07T12:12:22.199406Z",
     "start_time": "2021-01-07T12:12:22.192412Z"
    },
    "cell_id": "00063-2cf5a1e0-8281-49a0-80ce-e5288153af3c",
    "deepnote_cell_type": "code",
    "deepnote_to_be_reexecuted": false,
    "execution_millis": 2,
    "execution_start": 1610030998960,
    "output_cleared": true,
    "source_hash": "77eae26a"
   },
   "outputs": [],
   "source": [
    "# export data for kaggle submission\n",
    "# kaggle_submission(rf_grid, 'rf_withtuning_new', submission2_sc)"
   ]
  },
  {
   "cell_type": "markdown",
   "metadata": {
    "cell_id": "00064-b758fabe-6c1a-497f-a71a-24eb00d0805b",
    "deepnote_cell_type": "markdown"
   },
   "source": [
    "### Extra Trees"
   ]
  },
  {
   "cell_type": "code",
   "execution_count": null,
   "metadata": {
    "ExecuteTime": {
     "end_time": "2021-01-07T12:16:45.012248Z",
     "start_time": "2021-01-07T12:12:22.201404Z"
    },
    "cell_id": "00065-467e19b2-ef9d-4120-82f2-9e700130aec7",
    "deepnote_cell_type": "code",
    "deepnote_to_be_reexecuted": false,
    "execution_millis": 348711,
    "execution_start": 1610030998968,
    "source_hash": "5f89a4e5"
   },
   "outputs": [
    {
     "name": "stdout",
     "output_type": "stream",
     "text": [
      "Fitting 4 folds for each of 216 candidates, totalling 864 fits\n",
      "[Parallel(n_jobs=-2)]: Using backend SequentialBackend with 1 concurrent workers.\n",
      "Model best score: 0.844\n",
      "Model best params:\n",
      "{'class_weight': {0: 1, 1: 18}, 'max_depth': 7, 'min_samples_leaf': 5, 'min_samples_split': 4, 'n_estimators': 50}\n",
      "Model Statistics\n",
      "-------------------------------------------------------\n",
      "ROC-AUC   : 0.8255\n",
      "Recall    : 0.7636\n",
      "Precision : 0.14\n",
      "F1 Score  : 0.2366\n",
      "Accuracy  : 0.7422\n",
      "--------------------------------------------------------\n",
      "               Predicted No WNV  Predicted WNV\n",
      "Actual No WNV              1476            516\n",
      "Actual WNV                   26             84\n",
      "-------------------------------------------------------\n",
      "[Parallel(n_jobs=-2)]: Done 864 out of 864 | elapsed:  5.8min finished\n"
     ]
    }
   ],
   "source": [
    "# define hyperparamters to GridSearch\n",
    "et_params = {\n",
    "    'n_estimators': [50, 100, 150, 200],\n",
    "    'max_depth': [5, 6, 7],\n",
    "    'min_samples_leaf': [5, 6, 7],\n",
    "    'min_samples_split': [4, 6, 8],\n",
    "    'class_weight': [{0: 1, 1: 18}, 'balanced_subsample']\n",
    "}\n",
    "\n",
    "# GridSearch for best hyperparamters\n",
    "et_grid = GridSearchCV(ExtraTreesClassifier(random_state = 42),\n",
    "                       param_grid=et_params,\n",
    "                       cv=4,\n",
    "                       scoring='roc_auc',\n",
    "                       return_train_score=True,\n",
    "                       verbose = 1,\n",
    "                       n_jobs = -2\n",
    "                       )\n",
    "\n",
    "# run model and obtain model metrics\n",
    "model_dict['extra_trees'] = run_model(et_grid, X2_train_sc, y2_train, X2_test_sc, y2_test)"
   ]
  },
  {
   "cell_type": "code",
   "execution_count": null,
   "metadata": {
    "ExecuteTime": {
     "end_time": "2021-01-07T12:16:45.027239Z",
     "start_time": "2021-01-07T12:16:45.014247Z"
    },
    "cell_id": "00066-43b40601-fa31-4751-b7b4-2b2038a9972e",
    "deepnote_cell_type": "code",
    "deepnote_to_be_reexecuted": false,
    "execution_millis": 0,
    "execution_start": 1610031347680,
    "source_hash": "6b1e7773"
   },
   "outputs": [],
   "source": [
    "# export data for kaggle submission\n",
    "# kaggle_submission(et_grid, 'et_withtuning_050121', submission2_sc)"
   ]
  },
  {
   "cell_type": "markdown",
   "metadata": {
    "cell_id": "00067-35688086-a0d0-4a7c-b031-b6130a260012",
    "deepnote_cell_type": "markdown"
   },
   "source": [
    "### XGBoost\n",
    "As there are too many parameters to optimize for xgboost, the optimization was split up. \n",
    "\n",
    "The first run is aimed to optimize for: eta, gamma, min_child_weight, subsample, colsample_by_tree, lambda."
   ]
  },
  {
   "cell_type": "code",
   "execution_count": null,
   "metadata": {
    "ExecuteTime": {
     "end_time": "2021-01-07T12:38:27.044385Z",
     "start_time": "2021-01-07T12:16:45.029238Z"
    },
    "cell_id": "00068-c667eeda-f839-4089-b731-9ed8729330be",
    "deepnote_cell_type": "code",
    "deepnote_to_be_reexecuted": false,
    "execution_millis": 10079048,
    "execution_start": 1610031347680,
    "output_cleared": false,
    "source_hash": "28643b7d"
   },
   "outputs": [
    {
     "name": "stdout",
     "output_type": "stream",
     "text": [
      "Fitting 6 folds for each of 729 candidates, totalling 4374 fits\n",
      "[Parallel(n_jobs=-2)]: Using backend SequentialBackend with 1 concurrent workers.\n",
      "[Parallel(n_jobs=-2)]: Done 4374 out of 4374 | elapsed: 168.0min finished\n",
      "Model best score: 0.8452\n",
      "Model best params:\n",
      "{'colsample_bytree': 0.5, 'eta': 0.1, 'eval_metric': 'auc', 'gamma': 0.1, 'lambda': 5, 'max_depth': 6, 'min_child_weight': 3, 'n_estimators': 100, 'scale_pos_weight': 18, 'subsample': 1}\n",
      "Model Statistics\n",
      "-------------------------------------------------------\n",
      "ROC-AUC   : 0.8359\n",
      "Recall    : 0.6636\n",
      "Precision : 0.1619\n",
      "F1 Score  : 0.2602\n",
      "Accuracy  : 0.8026\n",
      "--------------------------------------------------------\n",
      "               Predicted No WNV  Predicted WNV\n",
      "Actual No WNV              1614            378\n",
      "Actual WNV                   37             73\n",
      "-------------------------------------------------------\n"
     ]
    }
   ],
   "source": [
    "# define hyperparamters to GridSearch\n",
    "xgb_params = {\n",
    "    'n_estimators': [100], # Default: 100\n",
    "    'eta': [0.01, 0.1, 0.3], # Default: 0.3\n",
    "    'gamma': [0, 0.01, 0.1], # Default: 0\n",
    "    'max_depth': [6], # Default: 6\n",
    "    'min_child_weight': [1, 3, 5], # Default: 1\n",
    "    'subsample': [0.8, 0.9, 1], # Default: 1\n",
    "    'colsample_bytree': [0.5, 0.75, 1], # Default: 1\n",
    "    'lambda': [1, 3, 5], # Default: 1\n",
    "    'scale_pos_weight': [18], # 18 based on recommended value\n",
    "    'eval_metric': ['auc'],\n",
    "}\n",
    "\n",
    "# GridSearch for best hyperparamters\n",
    "xgb_grid = GridSearchCV(XGBClassifier(random_state=42, seed=42, use_label_encoder = False),\n",
    "                        param_grid=xgb_params,\n",
    "                        cv=6,\n",
    "                        scoring='roc_auc',\n",
    "                        return_train_score=True,\n",
    "                        verbose=1,\n",
    "                        n_jobs=-2\n",
    "                        )\n",
    "\n",
    "# run model and obtain model metrics\n",
    "_ = run_model(xgb_grid, X2_train_sc, y2_train, X2_test_sc, y2_test)"
   ]
  },
  {
   "cell_type": "code",
   "execution_count": null,
   "metadata": {
    "ExecuteTime": {
     "end_time": "2021-01-07T12:40:09.875846Z",
     "start_time": "2021-01-07T12:38:27.046384Z"
    },
    "cell_id": "00069-ff46d2a2-5f2a-4ae7-9a1d-379d277bb1a1",
    "deepnote_cell_type": "code",
    "deepnote_to_be_reexecuted": false,
    "execution_millis": 452585,
    "execution_start": 1610041426732,
    "output_cleared": false,
    "source_hash": "85e04cf0",
    "tags": []
   },
   "outputs": [
    {
     "name": "stdout",
     "output_type": "stream",
     "text": [
      "Fitting 6 folds for each of 81 candidates, totalling 486 fits\n",
      "[Parallel(n_jobs=-2)]: Using backend SequentialBackend with 1 concurrent workers.\n",
      "[Parallel(n_jobs=-2)]: Done 486 out of 486 | elapsed:  7.5min finished\n",
      "Model best score: 0.8427\n",
      "Model best params:\n",
      "{'colsample_bytree': 0.5, 'eta': 0.1, 'eval_metric': 'auc', 'gamma': 0.1, 'lambda': 4, 'max_depth': 6, 'min_child_weight': 4, 'n_estimators': 100, 'scale_pos_weight': 18, 'subsample': 0.9}\n",
      "Model Statistics\n",
      "-------------------------------------------------------\n",
      "ROC-AUC   : 0.8429\n",
      "Recall    : 0.6545\n",
      "Precision : 0.1625\n",
      "F1 Score  : 0.2604\n",
      "Accuracy  : 0.8054\n",
      "--------------------------------------------------------\n",
      "               Predicted No WNV  Predicted WNV\n",
      "Actual No WNV              1621            371\n",
      "Actual WNV                   38             72\n",
      "-------------------------------------------------------\n"
     ]
    }
   ],
   "source": [
    "# This run is to further optimize gamma, min_child_weight, colsample_by_tree and lambda\n",
    "\n",
    "# define hyperparamters to GridSearch\n",
    "xgb_params = {\n",
    "    'n_estimators': [100], # Default: 100\n",
    "    'eta': [0.1], # Fixed: 0.1\n",
    "    'gamma': [0.1, 0.3, 0.5], # Previous Run: 0.1\n",
    "    'max_depth': [6], # Default: 6\n",
    "    'min_child_weight': [4, 5, 6], # Previous Run: 5\n",
    "    'subsample': [0.9], # Fixed: 0.9\n",
    "    'colsample_bytree': [0.4, 0.5, 0.6], # Previous Run: 0.5\n",
    "    'lambda': [4, 5, 6], # Previous Run: 5\n",
    "    'scale_pos_weight': [18], # 18 based on recommended value\n",
    "    'eval_metric': ['auc'],\n",
    "}\n",
    "\n",
    "# GridSearch for best hyperparamters\n",
    "xgb_grid = GridSearchCV(XGBClassifier(random_state=42, seed=42, use_label_encoder = False),\n",
    "                        param_grid=xgb_params,\n",
    "                        cv=6,\n",
    "                        scoring='roc_auc',\n",
    "                        return_train_score=True,\n",
    "                        verbose=1,\n",
    "                        n_jobs=-2\n",
    "                        )\n",
    "\n",
    "# run model and obtain model metrics\n",
    "_ = run_model(xgb_grid, X2_train_sc, y2_train, X2_test_sc, y2_test)"
   ]
  },
  {
   "cell_type": "code",
   "execution_count": null,
   "metadata": {
    "ExecuteTime": {
     "end_time": "2021-01-07T12:40:35.608470Z",
     "start_time": "2021-01-07T12:40:09.878351Z"
    },
    "cell_id": "00070-c55d2966-28e9-4189-809c-b654e2ce2956",
    "deepnote_cell_type": "code",
    "deepnote_to_be_reexecuted": false,
    "execution_millis": 107966,
    "execution_start": 1610041879324,
    "output_cleared": false,
    "source_hash": "3291020"
   },
   "outputs": [
    {
     "name": "stdout",
     "output_type": "stream",
     "text": [
      "Fitting 6 folds for each of 18 candidates, totalling 108 fits\n",
      "[Parallel(n_jobs=-2)]: Using backend SequentialBackend with 1 concurrent workers.\n",
      "[Parallel(n_jobs=-2)]: Done 108 out of 108 | elapsed:  1.8min finished\n",
      "Model best score: 0.8447\n",
      "Model best params:\n",
      "{'colsample_bytree': 0.5, 'eta': 0.1, 'eval_metric': 'auc', 'gamma': 0.3, 'lambda': 5, 'max_depth': 4, 'min_child_weight': 5, 'n_estimators': 100, 'scale_pos_weight': 18, 'subsample': 0.9}\n",
      "Model Statistics\n",
      "-------------------------------------------------------\n",
      "ROC-AUC   : 0.844\n",
      "Recall    : 0.7273\n",
      "Precision : 0.1504\n",
      "F1 Score  : 0.2492\n",
      "Accuracy  : 0.7707\n",
      "--------------------------------------------------------\n",
      "               Predicted No WNV  Predicted WNV\n",
      "Actual No WNV              1540            452\n",
      "Actual WNV                   30             80\n",
      "-------------------------------------------------------\n"
     ]
    }
   ],
   "source": [
    "# the second run will optimize for: n_estimators, max_depth, scale_pos_weight\n",
    "\n",
    "# define hyperparamters to GridSearch\n",
    "xgb_params = {\n",
    "    'n_estimators': [75, 100, 150], # Default: 100\n",
    "    'eta': [0.1], # Fixed: 0.1\n",
    "    'gamma': [0.3], # Fixed: 0.3\n",
    "    'max_depth': [4, 6, 8], # Default: 6\n",
    "    'min_child_weight': [5], # Fixed: 5\n",
    "    'subsample': [0.9], # Fixed: 0.9\n",
    "    'colsample_bytree': [0.5], # Fixed: 0.5\n",
    "    'lambda': [5], # Fixed: 5\n",
    "    'scale_pos_weight': [15, 18], # 18 based on recommended value\n",
    "    'eval_metric': ['auc'],\n",
    "}\n",
    "\n",
    "# GridSearch for best hyperparamters\n",
    "xgb_grid = GridSearchCV(XGBClassifier(random_state=42, seed=42, use_label_encoder = False),\n",
    "                        param_grid=xgb_params,\n",
    "                        cv=6,\n",
    "                        scoring='roc_auc',\n",
    "                        return_train_score=True,\n",
    "                        verbose=1,\n",
    "                        n_jobs=-2\n",
    "                        )\n",
    "\n",
    "# run model and obtain model metrics\n",
    "model_dict['xgboost'] = run_model(xgb_grid, X2_train_sc, y2_train, X2_test_sc, y2_test)"
   ]
  },
  {
   "cell_type": "markdown",
   "metadata": {
    "cell_id": "00071-c2d14114-e6a2-4b52-abbd-149b29de21a4",
    "deepnote_cell_type": "markdown"
   },
   "source": [
    "The second run optimized for: n_estimators, eta, gamma, max_depth, colsample_by_tree and lambda.\n",
    "\n",
    "The tuned XGBoost model performs slightly better than the model without tuning. Having the parameters tuned using GridSearchCV also means that the model should be even more generalized and consistent."
   ]
  },
  {
   "cell_type": "code",
   "execution_count": null,
   "metadata": {
    "ExecuteTime": {
     "end_time": "2021-01-07T12:40:35.624461Z",
     "start_time": "2021-01-07T12:40:35.610470Z"
    },
    "cell_id": "00072-2055d078-70f7-45a7-8c3a-0883499c6188",
    "deepnote_cell_type": "code",
    "deepnote_to_be_reexecuted": false,
    "execution_millis": 1,
    "execution_start": 1610041987294,
    "source_hash": "c6ced2ff"
   },
   "outputs": [],
   "source": [
    "# kaggle_submission(xgb_grid, 'xgb_withtuning_new', submission2_sc)"
   ]
  },
  {
   "cell_type": "markdown",
   "metadata": {
    "cell_id": "00073-2fb75809-2b30-4346-ac4e-ce1332507892",
    "deepnote_cell_type": "markdown"
   },
   "source": [
    "### Support Vector Machine (SVM)\n",
    "\n",
    "**Based on the article below, we need to use the output of decision_function to compute probability using logit function**\n",
    "\n",
    "\n",
    "https://stats.stackexchange.com/questions/329857/what-is-the-difference-between-decision-function-predict-proba-and-predict-fun\n",
    "\n",
    "**Alter common function to fit parameters used**"
   ]
  },
  {
   "cell_type": "code",
   "execution_count": null,
   "metadata": {
    "ExecuteTime": {
     "end_time": "2021-01-07T12:40:35.640494Z",
     "start_time": "2021-01-07T12:40:35.626489Z"
    },
    "cell_id": "00074-603895f8-d5aa-40e4-97e5-c7a8d3ff65e1",
    "deepnote_cell_type": "code",
    "deepnote_to_be_reexecuted": false,
    "execution_millis": 1,
    "execution_start": 1610041987302,
    "source_hash": "cc3b4d77"
   },
   "outputs": [],
   "source": [
    "# alter common function for SVM model\n",
    "# function is to run GridSearchCV models, display best score & best params and run model_metrics\n",
    "\n",
    "def run_SVM_model(model, X_train, y_train, X_test, y_test):\n",
    "    model.fit(X_train, y_train)\n",
    "    model_best_score = round(model.best_score_ ,4)\n",
    "    print(f'Model best score: {model_best_score}')\n",
    "    print(f'Model best params:\\n{model.best_params_}')\n",
    "\n",
    "    model_pred = model.predict(X_test)\n",
    "    \n",
    "    # change predict_proba to decision_function()\n",
    "    # use logit function to convert output from decision_function into probability values\n",
    "    model_proba = 1/(1+np.exp(-model.decision_function(X_test)))\n",
    "    \n",
    "    roc_auc = round(roc_auc_score(y_test, model_proba), 4)\n",
    "    recall = round(recall_score(y_test, model_pred), 4)\n",
    "    precision = round(precision_score(y_test, model_pred), 4)\n",
    "    f1 = round(f1_score(y_test, model_pred), 4)\n",
    "    accuracy = round(accuracy_score(y_test, model_pred), 4)\n",
    "                    \n",
    "\n",
    "    print('Model Statistics')\n",
    "    print('-------------------------------------------------------')\n",
    "    print(f'ROC-AUC   : {roc_auc}')\n",
    "    print(f'Recall    : {recall}')\n",
    "    print(f'Precision : {precision}')\n",
    "    print(f'F1 Score  : {f1}')\n",
    "    print(f'Accuracy  : {accuracy}')\n",
    "    print('--------------------------------------------------------')\n",
    "    print(pd.DataFrame(confusion_matrix(y_test, model_pred), \n",
    "                        index=['Actual No WNV', 'Actual WNV'], \n",
    "                        columns=['Predicted No WNV', 'Predicted WNV']))\n",
    "    print('-------------------------------------------------------')\n",
    "    \n",
    "    return model_best_score, roc_auc, recall, precision, f1, accuracy"
   ]
  },
  {
   "cell_type": "code",
   "execution_count": null,
   "metadata": {
    "ExecuteTime": {
     "end_time": "2021-01-07T12:45:31.149119Z",
     "start_time": "2021-01-07T12:40:35.642494Z"
    },
    "cell_id": "00075-c0929f9b-c524-4318-8d69-5bee1864d6c9",
    "deepnote_cell_type": "code",
    "deepnote_to_be_reexecuted": false,
    "execution_millis": 818982,
    "execution_start": 1610041987306,
    "source_hash": "c4bfe10a"
   },
   "outputs": [
    {
     "name": "stdout",
     "output_type": "stream",
     "text": [
      "Fitting 4 folds for each of 48 candidates, totalling 192 fits\n",
      "[Parallel(n_jobs=-2)]: Using backend SequentialBackend with 1 concurrent workers.\n",
      "[Parallel(n_jobs=-2)]: Done 192 out of 192 | elapsed: 13.6min finished\n",
      "Model best score: 0.836\n",
      "Model best params:\n",
      "{'C': 0.1, 'class_weight': {0: 1, 1: 18}, 'gamma': 'scale'}\n",
      "Model Statistics\n",
      "-------------------------------------------------------\n",
      "ROC-AUC   : 0.8298\n",
      "Recall    : 0.7909\n",
      "Precision : 0.1372\n",
      "F1 Score  : 0.2339\n",
      "Accuracy  : 0.7288\n",
      "--------------------------------------------------------\n",
      "               Predicted No WNV  Predicted WNV\n",
      "Actual No WNV              1445            547\n",
      "Actual WNV                   23             87\n",
      "-------------------------------------------------------\n"
     ]
    }
   ],
   "source": [
    "# define hyperparamters to GridSearch\n",
    "svc_params = {\n",
    "    'C': [0.1, 0.01, 0.001, 1],\n",
    "    'gamma': ['scale','auto', 0.1, 1, 10, 100],\n",
    "    'class_weight': [{0: 1, 1: 18}, 'balanced'],\n",
    "}\n",
    "\n",
    "# GridSearch for best hyperparamters\n",
    "svc_grid = GridSearchCV(SVC(kernel = 'rbf', probability = False, random_state = 42),\n",
    "                       param_grid=svc_params,\n",
    "                       cv=4,\n",
    "                       scoring='roc_auc',\n",
    "                       return_train_score=True,\n",
    "                       verbose = 1,\n",
    "                       n_jobs = -2\n",
    "                       )\n",
    "\n",
    "# run model and obtain model metrics\n",
    "model_dict['svm'] = run_SVM_model(svc_grid, X2_train_sc, y2_train, X2_test_sc, y2_test)"
   ]
  },
  {
   "cell_type": "code",
   "execution_count": null,
   "metadata": {
    "ExecuteTime": {
     "end_time": "2021-01-07T12:45:52.655340Z",
     "start_time": "2021-01-07T12:45:31.151120Z"
    },
    "cell_id": "00076-1746b6ac-d4ca-4df9-823a-2a00c67099a8",
    "deepnote_cell_type": "code",
    "deepnote_to_be_reexecuted": false,
    "execution_millis": 2,
    "execution_start": 1610042806291,
    "source_hash": "a237c792"
   },
   "outputs": [],
   "source": [
    "# create dataframe for kaggle submission\n",
    "# submission_df = test[['id']].copy()\n",
    "# submission_df['WnvPresent'] = 1/(1+np.exp(-svc_grid.decision_function(submission2_sc)))\n",
    "\n",
    "# export data for kaggle submission\n",
    "# submission_df.to_csv('assets/kaggle_svm.csv', index = False)"
   ]
  },
  {
   "cell_type": "code",
   "execution_count": null,
   "metadata": {
    "ExecuteTime": {
     "end_time": "2021-01-07T14:28:04.699354Z",
     "start_time": "2021-01-07T14:28:04.675371Z"
    },
    "cell_id": "00077-b8fee984-872a-4c7d-8721-a1805a794a2d",
    "deepnote_cell_type": "code",
    "deepnote_to_be_reexecuted": false,
    "execution_millis": 14,
    "execution_start": 1610042806300,
    "source_hash": "9c6ee7d4",
    "tags": []
   },
   "outputs": [
    {
     "data": {
      "application/vnd.deepnote.dataframe.v2+json": {
       "column_count": 3,
       "columns": [
        {
         "dtype": "float64",
         "name": "ROC-AUC",
         "stats": {
          "histogram": [
           {
            "bin_end": 0.8088099999999999,
            "bin_start": 0.8049,
            "count": 1
           },
           {
            "bin_end": 0.81272,
            "bin_start": 0.8088099999999999,
            "count": 0
           },
           {
            "bin_end": 0.81663,
            "bin_start": 0.81272,
            "count": 0
           },
           {
            "bin_end": 0.8205399999999999,
            "bin_start": 0.81663,
            "count": 0
           },
           {
            "bin_end": 0.8244499999999999,
            "bin_start": 0.8205399999999999,
            "count": 0
           },
           {
            "bin_end": 0.82836,
            "bin_start": 0.8244499999999999,
            "count": 2
           },
           {
            "bin_end": 0.83227,
            "bin_start": 0.82836,
            "count": 1
           },
           {
            "bin_end": 0.8361799999999999,
            "bin_start": 0.83227,
            "count": 0
           },
           {
            "bin_end": 0.84009,
            "bin_start": 0.8361799999999999,
            "count": 0
           },
           {
            "bin_end": 0.844,
            "bin_start": 0.84009,
            "count": 1
           }
          ],
          "max": 0.844,
          "min": 0.8049,
          "nan_count": 0,
          "unique_count": 5
         }
        },
        {
         "dtype": "float64",
         "name": "F1 Score",
         "stats": {
          "histogram": [
           {
            "bin_end": 0.21599,
            "bin_start": 0.2123,
            "count": 1
           },
           {
            "bin_end": 0.21968,
            "bin_start": 0.21599,
            "count": 0
           },
           {
            "bin_end": 0.22336999999999999,
            "bin_start": 0.21968,
            "count": 0
           },
           {
            "bin_end": 0.22705999999999998,
            "bin_start": 0.22336999999999999,
            "count": 0
           },
           {
            "bin_end": 0.23075,
            "bin_start": 0.22705999999999998,
            "count": 0
           },
           {
            "bin_end": 0.23443999999999998,
            "bin_start": 0.23075,
            "count": 1
           },
           {
            "bin_end": 0.23813,
            "bin_start": 0.23443999999999998,
            "count": 1
           },
           {
            "bin_end": 0.24182,
            "bin_start": 0.23813,
            "count": 0
           },
           {
            "bin_end": 0.24551,
            "bin_start": 0.24182,
            "count": 1
           },
           {
            "bin_end": 0.2492,
            "bin_start": 0.24551,
            "count": 1
           }
          ],
          "max": 0.2492,
          "min": 0.2123,
          "nan_count": 0,
          "unique_count": 5
         }
        },
        {
         "dtype": "float64",
         "name": "Accuracy",
         "stats": {
          "histogram": [
           {
            "bin_end": 0.69105,
            "bin_start": 0.6822,
            "count": 1
           },
           {
            "bin_end": 0.6999000000000001,
            "bin_start": 0.69105,
            "count": 0
           },
           {
            "bin_end": 0.70875,
            "bin_start": 0.6999000000000001,
            "count": 0
           },
           {
            "bin_end": 0.7176,
            "bin_start": 0.70875,
            "count": 0
           },
           {
            "bin_end": 0.72645,
            "bin_start": 0.7176,
            "count": 0
           },
           {
            "bin_end": 0.7353000000000001,
            "bin_start": 0.72645,
            "count": 1
           },
           {
            "bin_end": 0.7441500000000001,
            "bin_start": 0.7353000000000001,
            "count": 1
           },
           {
            "bin_end": 0.753,
            "bin_start": 0.7441500000000001,
            "count": 0
           },
           {
            "bin_end": 0.76185,
            "bin_start": 0.753,
            "count": 0
           },
           {
            "bin_end": 0.7707,
            "bin_start": 0.76185,
            "count": 2
           }
          ],
          "max": 0.7707,
          "min": 0.6822,
          "nan_count": 0,
          "unique_count": 5
         }
        },
        {
         "dtype": "object",
         "name": "_deepnote_index_column"
        }
       ],
       "row_count": 5,
       "rows_bottom": null,
       "rows_top": [
        {
         "Accuracy": 0.6822,
         "F1 Score": 0.2123,
         "ROC-AUC": 0.8049,
         "_deepnote_index_column": "Logistic Regression"
        },
        {
         "Accuracy": 0.7678,
         "F1 Score": 0.2422,
         "ROC-AUC": 0.8258,
         "_deepnote_index_column": "Random Forest"
        },
        {
         "Accuracy": 0.7422,
         "F1 Score": 0.2366,
         "ROC-AUC": 0.8255,
         "_deepnote_index_column": "Extra Trees"
        },
        {
         "Accuracy": 0.7707,
         "F1 Score": 0.2492,
         "ROC-AUC": 0.844,
         "_deepnote_index_column": "XGBoost"
        },
        {
         "Accuracy": 0.7288,
         "F1 Score": 0.2339,
         "ROC-AUC": 0.8298,
         "_deepnote_index_column": "SVM"
        }
       ]
      },
      "text/html": [
       "<div>\n",
       "<style scoped>\n",
       "    .dataframe tbody tr th:only-of-type {\n",
       "        vertical-align: middle;\n",
       "    }\n",
       "\n",
       "    .dataframe tbody tr th {\n",
       "        vertical-align: top;\n",
       "    }\n",
       "\n",
       "    .dataframe thead th {\n",
       "        text-align: right;\n",
       "    }\n",
       "</style>\n",
       "<table border=\"1\" class=\"dataframe\">\n",
       "  <thead>\n",
       "    <tr style=\"text-align: right;\">\n",
       "      <th></th>\n",
       "      <th>ROC-AUC</th>\n",
       "      <th>F1 Score</th>\n",
       "      <th>Accuracy</th>\n",
       "    </tr>\n",
       "  </thead>\n",
       "  <tbody>\n",
       "    <tr>\n",
       "      <th>Logistic Regression</th>\n",
       "      <td>0.8049</td>\n",
       "      <td>0.2123</td>\n",
       "      <td>0.6822</td>\n",
       "    </tr>\n",
       "    <tr>\n",
       "      <th>Random Forest</th>\n",
       "      <td>0.8258</td>\n",
       "      <td>0.2422</td>\n",
       "      <td>0.7678</td>\n",
       "    </tr>\n",
       "    <tr>\n",
       "      <th>Extra Trees</th>\n",
       "      <td>0.8255</td>\n",
       "      <td>0.2366</td>\n",
       "      <td>0.7422</td>\n",
       "    </tr>\n",
       "    <tr>\n",
       "      <th>XGBoost</th>\n",
       "      <td>0.8440</td>\n",
       "      <td>0.2492</td>\n",
       "      <td>0.7707</td>\n",
       "    </tr>\n",
       "    <tr>\n",
       "      <th>SVM</th>\n",
       "      <td>0.8298</td>\n",
       "      <td>0.2339</td>\n",
       "      <td>0.7288</td>\n",
       "    </tr>\n",
       "  </tbody>\n",
       "</table>\n",
       "</div>"
      ],
      "text/plain": [
       "                     ROC-AUC  F1 Score  Accuracy\n",
       "Logistic Regression   0.8049    0.2123    0.6822\n",
       "Random Forest         0.8258    0.2422    0.7678\n",
       "Extra Trees           0.8255    0.2366    0.7422\n",
       "XGBoost               0.8440    0.2492    0.7707\n",
       "SVM                   0.8298    0.2339    0.7288"
      ]
     },
     "execution_count": 46,
     "metadata": {},
     "output_type": "execute_result"
    }
   ],
   "source": [
    "# display the tuned model's metrics as one dataframe\n",
    "results = pd.DataFrame(model_dict).T\n",
    "\n",
    "results.columns = ['ROC-AUC (train)', 'ROC-AUC', 'Recall', 'Precision', 'F1 Score', 'Accuracy']\n",
    "results.index = ['Logistic Regression', 'Random Forest', 'Extra Trees', 'XGBoost', 'SVM']\n",
    "\n",
    "results_main = results[['ROC-AUC', 'F1 Score', 'Accuracy']]\n",
    "results_main"
   ]
  },
  {
   "cell_type": "code",
   "execution_count": null,
   "metadata": {
    "ExecuteTime": {
     "end_time": "2021-01-07T14:28:05.575695Z",
     "start_time": "2021-01-07T14:28:05.224647Z"
    },
    "cell_id": "00078-f0efd457-0dce-490c-8233-6b5055fa1c31",
    "deepnote_cell_type": "code",
    "deepnote_to_be_reexecuted": false,
    "execution_millis": 250,
    "execution_start": 1610042806349,
    "source_hash": "ea4ee672"
   },
   "outputs": [
    {
     "data": {
      "image/png": "[encoded data removed]",
      "text/plain": [
       "<Figure size 864x576 with 1 Axes>"
      ]
     },
     "metadata": {},
     "output_type": "display_data"
    }
   ],
   "source": [
    "# display the main metrics (ROC-AUC, F1 score and Accuracy) as a barplot\n",
    "temp = pd.DataFrame(pd.DataFrame(results_main.stack()).to_records())\n",
    "temp.columns = ['Model', 'Metrics', 'Values']\n",
    "\n",
    "plt.figure(figsize = (12, 8))\n",
    "sns.barplot(data = temp, x = 'Metrics', y='Values', hue = 'Model', orient='v', palette = 'rocket_r')\n",
    "plt.title('Metrics for Tuned Models', fontsize = 25)\n",
    "plt.xlabel('Metrics', fontsize = 15)\n",
    "plt.ylabel('Values', fontsize = 15)\n",
    "plt.legend(fontsize = 12)\n",
    "plt.show()"
   ]
  },
  {
   "cell_type": "markdown",
   "metadata": {},
   "source": [
    "### Conclusion For Modeling\n",
    "\n",
    "Among the five tuned models, XGBoost had the best performance across all three metrics. This shows that XGBoost predicts true positive well, without predicting too many false positive, which is what we want to achieve.\n",
    "\n",
    "As such, the final model will be using XGBoost with the tuned parameters. The full dataset will be used to train the model for better generalization."
   ]
  },
  {
   "cell_type": "markdown",
   "metadata": {
    "cell_id": "00079-b79cd055-8007-4cbd-9b61-62c134d7c1bc",
    "deepnote_cell_type": "markdown",
    "tags": []
   },
   "source": [
    "## Final Model"
   ]
  },
  {
   "cell_type": "code",
   "execution_count": null,
   "metadata": {
    "ExecuteTime": {
     "end_time": "2021-01-07T12:45:52.735372Z",
     "start_time": "2021-01-07T12:45:52.689395Z"
    },
    "cell_id": "00080-02f9cca9-3724-465b-b91e-ef01a2abab5f",
    "deepnote_cell_type": "code",
    "deepnote_to_be_reexecuted": false,
    "execution_millis": 19,
    "execution_start": 1610042806605,
    "source_hash": "ecfa2d47",
    "tags": []
   },
   "outputs": [],
   "source": [
    "# dataset consisting only 2 weeks rolling average information\n",
    "train_final = train.drop(columns=['date', 'nummosquitos',\n",
    "                                  'tavg_1week', 'dewpoint_1week', 'preciptotal_1week',\n",
    "                                  'avgspeed_1week', 'r_humidity_1week']).copy()\n",
    "\n",
    "cols_kept = train_final.drop(columns='wnvpresent').columns\n",
    "\n",
    "# one-hot encode all the species from the training dataset\n",
    "enc = OneHotEncoder(handle_unknown='ignore')\n",
    "temp_df = pd.DataFrame(enc.fit_transform(train_final[['species']]).toarray(), columns=enc.get_feature_names(['species']))\n",
    "train_final = pd.concat([train_final.drop(columns=['species']), temp_df], axis=1)\n",
    "\n",
    "X_final = train_final.drop(columns='wnvpresent')\n",
    "y_final = train_final['wnvpresent']\n",
    "\n",
    "\n",
    "# scaling the dataset usingStandardScaler\n",
    "ss = StandardScaler()\n",
    "X_final_sc = ss.fit_transform(X_final)"
   ]
  },
  {
   "cell_type": "code",
   "execution_count": null,
   "metadata": {
    "ExecuteTime": {
     "end_time": "2021-01-07T12:45:52.894234Z",
     "start_time": "2021-01-07T12:45:52.736374Z"
    },
    "cell_id": "00081-7e616c01-d689-4947-bd25-94cd9b11968c",
    "deepnote_cell_type": "code",
    "deepnote_to_be_reexecuted": false,
    "execution_millis": 82,
    "execution_start": 1610042806632,
    "source_hash": "1b42f75c",
    "tags": []
   },
   "outputs": [],
   "source": [
    "# preparing the final submission (test) dataset\n",
    "submission_final = test[cols_kept].copy()\n",
    "\n",
    "# one-hot encode species\n",
    "temp_df = pd.DataFrame(enc.transform(submission_final[['species']]).toarray(), columns = enc.get_feature_names(['species']))\n",
    "submission_final = pd.concat([submission_final.drop(columns = ['species']), temp_df], axis = 1)\n",
    "\n",
    "# transform final submission (test) using standard scaler\n",
    "submission_final_sc = ss.transform(submission_final)"
   ]
  },
  {
   "cell_type": "code",
   "execution_count": null,
   "metadata": {
    "ExecuteTime": {
     "end_time": "2021-01-07T12:45:53.181826Z",
     "start_time": "2021-01-07T12:45:52.896003Z"
    },
    "cell_id": "00082-1d3bb7af-9924-4ebb-8c3c-6cd5fb43cfb6",
    "deepnote_cell_type": "code",
    "deepnote_to_be_reexecuted": false,
    "execution_millis": 494,
    "execution_start": 1610042806718,
    "source_hash": "a94c4d40",
    "tags": []
   },
   "outputs": [
    {
     "data": {
      "text/plain": [
       "XGBClassifier(base_score=0.5, booster='gbtree', colsample_bylevel=1,\n",
       "              colsample_bynode=1, colsample_bytree=0.5, eta=0.1,\n",
       "              eval_metric='auc', gamma=0.3, gpu_id=-1, importance_type='gain',\n",
       "              interaction_constraints='', learning_rate=0.100000001,\n",
       "              max_delta_step=0, max_depth=4, min_child_weight=5, missing=nan,\n",
       "              monotone_constraints='()', n_estimators=75, n_jobs=4,\n",
       "              num_parallel_tree=1, random_state=42, reg_alpha=0, reg_lambda=5,\n",
       "              scale_pos_weight=15, subsample=0.9, tree_method='exact',\n",
       "              use_label_encoder=False, validate_parameters=1, verbosity=None)"
      ]
     },
     "execution_count": 50,
     "metadata": {},
     "output_type": "execute_result"
    }
   ],
   "source": [
    "# instantiate the XGBClassifier model with parameters chosen in GridSearch\n",
    "xgb_model = XGBClassifier(colsample_bytree=0.5,\n",
    "                          eta=0.1,\n",
    "                          eval_metric='auc',\n",
    "                          gamma=0.3,\n",
    "                          reg_lambda=5,\n",
    "                          max_depth=4,\n",
    "                          min_child_weight=5,\n",
    "                          n_estimators=75,\n",
    "                          scale_pos_weight=15,\n",
    "                          subsample=0.9,\n",
    "                          random_state = 42,\n",
    "                          use_label_encoder=False)\n",
    "\n",
    "# fit the XGBClassifier model\n",
    "xgb_model.fit(X_final_sc, y_final)"
   ]
  },
  {
   "cell_type": "code",
   "execution_count": null,
   "metadata": {
    "ExecuteTime": {
     "end_time": "2021-01-07T12:45:53.769071Z",
     "start_time": "2021-01-07T12:45:53.182827Z"
    },
    "cell_id": "00083-370c7519-5f28-4dfc-b560-4cdfa844da18",
    "deepnote_cell_type": "code",
    "deepnote_to_be_reexecuted": false,
    "execution_millis": 2,
    "execution_start": 1610042807215,
    "source_hash": "75962a8e",
    "tags": []
   },
   "outputs": [],
   "source": [
    "# export data for kaggle submission\n",
    "# kaggle_submission(xgb_model, 'final_model', submission_final_sc)"
   ]
  },
  {
   "cell_type": "markdown",
   "metadata": {
    "cell_id": "00084-eb004237-3e32-4aa7-ad88-a5ccc8e94e00",
    "deepnote_cell_type": "markdown",
    "tags": []
   },
   "source": [
    "### Feature Importance for Final Model"
   ]
  },
  {
   "cell_type": "code",
   "execution_count": null,
   "metadata": {
    "ExecuteTime": {
     "end_time": "2021-01-07T12:45:53.816113Z",
     "start_time": "2021-01-07T12:45:53.771141Z"
    },
    "cell_id": "00085-0fbb43af-6f3c-43fe-a8bc-79dfdf669d4a",
    "deepnote_cell_type": "code",
    "deepnote_to_be_reexecuted": false,
    "execution_millis": 62,
    "execution_start": 1610042807220,
    "source_hash": "56c00080",
    "tags": []
   },
   "outputs": [
    {
     "data": {
      "application/vnd.deepnote.dataframe.v2+json": {
       "column_count": 2,
       "columns": [
        {
         "dtype": "int64",
         "name": "feature_no",
         "stats": {
          "histogram": [
           {
            "bin_end": 2.5,
            "bin_start": 0,
            "count": 3
           },
           {
            "bin_end": 5,
            "bin_start": 2.5,
            "count": 2
           },
           {
            "bin_end": 7.5,
            "bin_start": 5,
            "count": 3
           },
           {
            "bin_end": 10,
            "bin_start": 7.5,
            "count": 2
           },
           {
            "bin_end": 12.5,
            "bin_start": 10,
            "count": 3
           },
           {
            "bin_end": 15,
            "bin_start": 12.5,
            "count": 2
           },
           {
            "bin_end": 17.5,
            "bin_start": 15,
            "count": 3
           },
           {
            "bin_end": 20,
            "bin_start": 17.5,
            "count": 1
           },
           {
            "bin_end": 22.5,
            "bin_start": 20,
            "count": 3
           },
           {
            "bin_end": 25,
            "bin_start": 22.5,
            "count": 2
           }
          ],
          "max": 25,
          "min": 0,
          "nan_count": 0,
          "unique_count": 24
         }
        },
        {
         "dtype": "int64",
         "name": "importance",
         "stats": {
          "histogram": [
           {
            "bin_end": 20.4,
            "bin_start": 7,
            "count": 7
           },
           {
            "bin_end": 33.8,
            "bin_start": 20.4,
            "count": 7
           },
           {
            "bin_end": 47.2,
            "bin_start": 33.8,
            "count": 7
           },
           {
            "bin_end": 60.6,
            "bin_start": 47.2,
            "count": 1
           },
           {
            "bin_end": 74,
            "bin_start": 60.6,
            "count": 0
           },
           {
            "bin_end": 87.4,
            "bin_start": 74,
            "count": 0
           },
           {
            "bin_end": 100.8,
            "bin_start": 87.4,
            "count": 0
           },
           {
            "bin_end": 114.2,
            "bin_start": 100.8,
            "count": 1
           },
           {
            "bin_end": 127.60000000000001,
            "bin_start": 114.2,
            "count": 0
           },
           {
            "bin_end": 141,
            "bin_start": 127.60000000000001,
            "count": 1
           }
          ],
          "max": 141,
          "min": 7,
          "nan_count": 0,
          "unique_count": 20
         }
        },
        {
         "dtype": "object",
         "name": "_deepnote_index_column"
        }
       ],
       "row_count": 24,
       "rows_bottom": null,
       "rows_top": [
        {
         "_deepnote_index_column": "latitude",
         "feature_no": 0,
         "importance": 141
        },
        {
         "_deepnote_index_column": "longitude",
         "feature_no": 1,
         "importance": 106
        },
        {
         "_deepnote_index_column": "dewpoint_2week",
         "feature_no": 11,
         "importance": 51
        },
        {
         "_deepnote_index_column": "tavg_2week",
         "feature_no": 10,
         "importance": 47
        },
        {
         "_deepnote_index_column": "week",
         "feature_no": 17,
         "importance": 46
        },
        {
         "_deepnote_index_column": "sealevel",
         "feature_no": 6,
         "importance": 43
        },
        {
         "_deepnote_index_column": "avgspeed",
         "feature_no": 8,
         "importance": 38
        },
        {
         "_deepnote_index_column": "year",
         "feature_no": 15,
         "importance": 36
        },
        {
         "_deepnote_index_column": "avgspeed_2week",
         "feature_no": 13,
         "importance": 36
        },
        {
         "_deepnote_index_column": "r_humidity_2week",
         "feature_no": 14,
         "importance": 34
        },
        {
         "_deepnote_index_column": "preciptotal_2week",
         "feature_no": 12,
         "importance": 31
        },
        {
         "_deepnote_index_column": "resultdir",
         "feature_no": 7,
         "importance": 26
        },
        {
         "_deepnote_index_column": "dewpoint",
         "feature_no": 4,
         "importance": 24
        },
        {
         "_deepnote_index_column": "depart",
         "feature_no": 3,
         "importance": 24
        },
        {
         "_deepnote_index_column": "species_CULEX RESTUANS",
         "feature_no": 22,
         "importance": 22
        },
        {
         "_deepnote_index_column": "tavg",
         "feature_no": 2,
         "importance": 21
        },
        {
         "_deepnote_index_column": "r_humidity",
         "feature_no": 9,
         "importance": 21
        },
        {
         "_deepnote_index_column": "species_CULEX TERRITANS",
         "feature_no": 25,
         "importance": 19
        },
        {
         "_deepnote_index_column": "day",
         "feature_no": 18,
         "importance": 17
        },
        {
         "_deepnote_index_column": "preciptotal",
         "feature_no": 5,
         "importance": 14
        },
        {
         "_deepnote_index_column": "species_CULEX PIPIENS/RESTUANS",
         "feature_no": 21,
         "importance": 14
        },
        {
         "_deepnote_index_column": "month",
         "feature_no": 16,
         "importance": 11
        },
        {
         "_deepnote_index_column": "species_CULEX SALINARIUS",
         "feature_no": 23,
         "importance": 8
        },
        {
         "_deepnote_index_column": "species_CULEX PIPIENS",
         "feature_no": 20,
         "importance": 7
        }
       ]
      },
      "text/html": [
       "<div>\n",
       "<style scoped>\n",
       "    .dataframe tbody tr th:only-of-type {\n",
       "        vertical-align: middle;\n",
       "    }\n",
       "\n",
       "    .dataframe tbody tr th {\n",
       "        vertical-align: top;\n",
       "    }\n",
       "\n",
       "    .dataframe thead th {\n",
       "        text-align: right;\n",
       "    }\n",
       "</style>\n",
       "<table border=\"1\" class=\"dataframe\">\n",
       "  <thead>\n",
       "    <tr style=\"text-align: right;\">\n",
       "      <th></th>\n",
       "      <th>feature_no</th>\n",
       "      <th>importance</th>\n",
       "    </tr>\n",
       "    <tr>\n",
       "      <th>feature</th>\n",
       "      <th></th>\n",
       "      <th></th>\n",
       "    </tr>\n",
       "  </thead>\n",
       "  <tbody>\n",
       "    <tr>\n",
       "      <th>latitude</th>\n",
       "      <td>0</td>\n",
       "      <td>141</td>\n",
       "    </tr>\n",
       "    <tr>\n",
       "      <th>longitude</th>\n",
       "      <td>1</td>\n",
       "      <td>106</td>\n",
       "    </tr>\n",
       "    <tr>\n",
       "      <th>dewpoint_2week</th>\n",
       "      <td>11</td>\n",
       "      <td>51</td>\n",
       "    </tr>\n",
       "    <tr>\n",
       "      <th>tavg_2week</th>\n",
       "      <td>10</td>\n",
       "      <td>47</td>\n",
       "    </tr>\n",
       "    <tr>\n",
       "      <th>week</th>\n",
       "      <td>17</td>\n",
       "      <td>46</td>\n",
       "    </tr>\n",
       "    <tr>\n",
       "      <th>sealevel</th>\n",
       "      <td>6</td>\n",
       "      <td>43</td>\n",
       "    </tr>\n",
       "    <tr>\n",
       "      <th>avgspeed</th>\n",
       "      <td>8</td>\n",
       "      <td>38</td>\n",
       "    </tr>\n",
       "    <tr>\n",
       "      <th>year</th>\n",
       "      <td>15</td>\n",
       "      <td>36</td>\n",
       "    </tr>\n",
       "    <tr>\n",
       "      <th>avgspeed_2week</th>\n",
       "      <td>13</td>\n",
       "      <td>36</td>\n",
       "    </tr>\n",
       "    <tr>\n",
       "      <th>r_humidity_2week</th>\n",
       "      <td>14</td>\n",
       "      <td>34</td>\n",
       "    </tr>\n",
       "    <tr>\n",
       "      <th>preciptotal_2week</th>\n",
       "      <td>12</td>\n",
       "      <td>31</td>\n",
       "    </tr>\n",
       "    <tr>\n",
       "      <th>resultdir</th>\n",
       "      <td>7</td>\n",
       "      <td>26</td>\n",
       "    </tr>\n",
       "    <tr>\n",
       "      <th>dewpoint</th>\n",
       "      <td>4</td>\n",
       "      <td>24</td>\n",
       "    </tr>\n",
       "    <tr>\n",
       "      <th>depart</th>\n",
       "      <td>3</td>\n",
       "      <td>24</td>\n",
       "    </tr>\n",
       "    <tr>\n",
       "      <th>species_CULEX RESTUANS</th>\n",
       "      <td>22</td>\n",
       "      <td>22</td>\n",
       "    </tr>\n",
       "    <tr>\n",
       "      <th>tavg</th>\n",
       "      <td>2</td>\n",
       "      <td>21</td>\n",
       "    </tr>\n",
       "    <tr>\n",
       "      <th>r_humidity</th>\n",
       "      <td>9</td>\n",
       "      <td>21</td>\n",
       "    </tr>\n",
       "    <tr>\n",
       "      <th>species_CULEX TERRITANS</th>\n",
       "      <td>25</td>\n",
       "      <td>19</td>\n",
       "    </tr>\n",
       "    <tr>\n",
       "      <th>day</th>\n",
       "      <td>18</td>\n",
       "      <td>17</td>\n",
       "    </tr>\n",
       "    <tr>\n",
       "      <th>preciptotal</th>\n",
       "      <td>5</td>\n",
       "      <td>14</td>\n",
       "    </tr>\n",
       "    <tr>\n",
       "      <th>species_CULEX PIPIENS/RESTUANS</th>\n",
       "      <td>21</td>\n",
       "      <td>14</td>\n",
       "    </tr>\n",
       "    <tr>\n",
       "      <th>month</th>\n",
       "      <td>16</td>\n",
       "      <td>11</td>\n",
       "    </tr>\n",
       "    <tr>\n",
       "      <th>species_CULEX SALINARIUS</th>\n",
       "      <td>23</td>\n",
       "      <td>8</td>\n",
       "    </tr>\n",
       "    <tr>\n",
       "      <th>species_CULEX PIPIENS</th>\n",
       "      <td>20</td>\n",
       "      <td>7</td>\n",
       "    </tr>\n",
       "  </tbody>\n",
       "</table>\n",
       "</div>"
      ],
      "text/plain": [
       "                                feature_no  importance\n",
       "feature                                               \n",
       "latitude                                 0         141\n",
       "longitude                                1         106\n",
       "dewpoint_2week                          11          51\n",
       "tavg_2week                              10          47\n",
       "week                                    17          46\n",
       "sealevel                                 6          43\n",
       "avgspeed                                 8          38\n",
       "year                                    15          36\n",
       "avgspeed_2week                          13          36\n",
       "r_humidity_2week                        14          34\n",
       "preciptotal_2week                       12          31\n",
       "resultdir                                7          26\n",
       "dewpoint                                 4          24\n",
       "depart                                   3          24\n",
       "species_CULEX RESTUANS                  22          22\n",
       "tavg                                     2          21\n",
       "r_humidity                               9          21\n",
       "species_CULEX TERRITANS                 25          19\n",
       "day                                     18          17\n",
       "preciptotal                              5          14\n",
       "species_CULEX PIPIENS/RESTUANS          21          14\n",
       "month                                   16          11\n",
       "species_CULEX SALINARIUS                23           8\n",
       "species_CULEX PIPIENS                   20           7"
      ]
     },
     "execution_count": 52,
     "metadata": {},
     "output_type": "execute_result"
    }
   ],
   "source": [
    "# create dataframe for all the features and their importance from the XGBoost model\n",
    "xgb_final_fi = pd.DataFrame([(int(feature[1:]), int(importance)) for feature, importance in xgb_model.get_booster().get_fscore().items()], columns = ['feature_no', 'importance'])\n",
    "xgb_final_fi.sort_values('importance', ascending = False, inplace = True)\n",
    "xgb_final_fi['feature'] = xgb_final_fi['feature_no'].apply(lambda x: X_final.columns[x])\n",
    "xgb_final_fi.set_index('feature', drop = True, inplace = True)\n",
    "\n",
    "xgb_final_fi"
   ]
  },
  {
   "cell_type": "code",
   "execution_count": null,
   "metadata": {
    "ExecuteTime": {
     "end_time": "2021-01-07T12:45:54.210697Z",
     "start_time": "2021-01-07T12:45:53.818112Z"
    },
    "cell_id": "00086-2a8a163c-0814-4f97-9c29-251ae5c05184",
    "deepnote_cell_type": "code",
    "deepnote_to_be_reexecuted": false,
    "execution_millis": 187,
    "execution_start": 1610042807304,
    "source_hash": "5471e5f",
    "tags": []
   },
   "outputs": [
    {
     "data": {
      "image/png": "[encoded data removed]",
      "text/plain": [
       "<Figure size 360x576 with 1 Axes>"
      ]
     },
     "metadata": {},
     "output_type": "display_data"
    }
   ],
   "source": [
    "# plot the top 10 features based on importance\n",
    "plt.figure(figsize = (5, 8))\n",
    "\n",
    "data = xgb_final_fi.iloc[:10]\n",
    "sns.barplot(data = data, y = data.index, x='importance', orient='h', palette = 'rocket_r')\n",
    "\n",
    "plt.title('Top 10 Features', fontsize = 20)\n",
    "plt.ylabel('')\n",
    "plt.xlabel('Feature Importance', fontsize = 15)\n",
    "plt.show()"
   ]
  },
  {
   "cell_type": "markdown",
   "metadata": {
    "cell_id": "00087-dd9f866b-6168-4468-97e4-3be3ece007e8",
    "deepnote_cell_type": "markdown",
    "tags": []
   },
   "source": [
    "### Conclusion for Modeling\n",
    "\n",
    "From the feature importance, the most important features to identify if a place will have Wile Nile virus is the location features - latitude and longitude. The importance of these 2 features are much higher than other features.\n",
    "\n",
    "Out of the weather data, average wind speed information - both the daily data and average data for past 2 weeks are important features. The sea level and average temperature for past 2 weeks are also important for predicting if a place will have West Nile Virus.\n",
    "\n",
    "Other than that, the week of the year and the year are important in predicting West Nile virus. This suggests that there are specific periods in the year that mosquitos (and WNV) are more prevalent.\n",
    "\n",
    "Lastly, the Culex Restuans species is also identified as an important feature, signalling that this species of mosquito is especially prone to carrying the West Nile virus."
   ]
  },
  {
   "cell_type": "markdown",
   "metadata": {
    "cell_id": "00090-ebb5d6e9-a326-421b-803a-a878352be30f",
    "deepnote_cell_type": "markdown",
    "tags": []
   },
   "source": []
  }
 ],
 "metadata": {
  "deepnote_execution_queue": [],
  "deepnote_notebook_id": "8320e1bb-ba53-4d6c-9d78-29f972c27ca3",
  "kernelspec": {
   "display_name": "Python 3",
   "language": "python",
   "name": "python3"
  },
  "language_info": {
   "codemirror_mode": {
    "name": "ipython",
    "version": 3
   },
   "file_extension": ".py",
   "mimetype": "text/x-python",
   "name": "python",
   "nbconvert_exporter": "python",
   "pygments_lexer": "ipython3",
   "version": "3.7.9"
  },
  "toc": {
   "base_numbering": 1,
   "nav_menu": {},
   "number_sections": false,
   "sideBar": true,
   "skip_h1_title": false,
   "title_cell": "Table of Contents",
   "title_sidebar": "Contents",
   "toc_cell": false,
   "toc_position": {
    "height": "calc(100% - 180px)",
    "left": "10px",
    "top": "150px",
    "width": "205px"
   },
   "toc_section_display": true,
   "toc_window_display": true
  }
 },
 "nbformat": 4,
 "nbformat_minor": 2
}
